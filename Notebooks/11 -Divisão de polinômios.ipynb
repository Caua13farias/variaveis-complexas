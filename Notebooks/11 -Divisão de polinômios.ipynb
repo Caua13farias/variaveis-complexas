{
 "cells": [
  {
   "attachments": {},
   "cell_type": "markdown",
   "metadata": {},
   "source": [
    "# **Divisão de polinômios**"
   ]
  },
  {
   "attachments": {},
   "cell_type": "markdown",
   "metadata": {},
   "source": [
    "## Grau de um polinômio"
   ]
  },
  {
   "attachments": {},
   "cell_type": "markdown",
   "metadata": {},
   "source": [
    "O grau $\\gr{f}$ de um polinômio $f(x)$ é a potência do termo de maior potência em $x$ na expressão do polinômio. \n",
    "\n",
    "**Exemplos:**\n",
    "\n",
    "(a) $f(x) = 4+7x+2x^3-6x^4 \\Rightarrow \\gr{f} = 4$   \n",
    "(b) $g(x) = -1+2x+5x^2 \\Rightarrow \\gr{g} = 2$  \n",
    "(c) $h(x) = 1+5x-3x^2+(a-4)x^3 \\Rightarrow$, $\\gr{h} = 2$ se $a=4$, $\\gr{h}=3$ se $a\\neq 4$.\n",
    "\n",
    "O coeficiente que acompanha o termo de maior potência é chamado coeficiente dominante.\n",
    "\n",
    "Quando o coeficiente dominante é unitário, o polinômio é dito mônico ou unitário. "
   ]
  },
  {
   "attachments": {},
   "cell_type": "markdown",
   "metadata": {},
   "source": [
    "**Grau da soma:** $\\gr{f+g} = \\max \\left(\\gr{f},\\, \\gr{g}\\right)$  \n",
    "\n",
    "**Grau do produto**: $\\gr{f\\cdot g} = \\gr{f} + \\gr{g}$"
   ]
  },
  {
   "attachments": {},
   "cell_type": "markdown",
   "metadata": {},
   "source": [
    "<center> <img src=\"ex140-152.svg\" width=\"80%\"> </center>"
   ]
  },
  {
   "attachments": {},
   "cell_type": "markdown",
   "metadata": {},
   "source": [
    "## Divisão de polinômios. \n",
    "\n",
    "Dados dois polinômios $f$ (dividendo) e $g \\neq 0$ (divisor), dividir $f$ por $g$ é determinar dois outros polinômios $q$ (quociente) e $r$ (resto) de modo que se verifiquem as duas condições seguintes:  \n",
    "(a) $f = q\\cdot g + r$  \n",
    "(b) $\\gr{r} < \\gr{g}$ ou $r=0$\n",
    "\n",
    "**Exemplos**: O quociente e o resto de $f=3x^4-2x^3+7x+2$ dividido por $g=3x^3-2x^2+4x-1$ são respectivamente $q=x$ e $r=-4x^2+8x+2$, porque:   "
   ]
  },
  {
   "cell_type": "code",
   "execution_count": 4,
   "metadata": {},
   "outputs": [
    {
     "data": {
      "text/latex": [
       "$\\displaystyle q\\cdot g+r = x \\left(3 x^{3} - 2 x^{2} + 4 x - 1\\right)- 4 x^{2} + 8 x + 2=3 x^{4} - 2 x^{3} + 7 x + 2 = f$"
      ],
      "text/plain": [
       "<IPython.core.display.Math object>"
      ]
     },
     "metadata": {},
     "output_type": "display_data"
    }
   ],
   "source": [
    "from sympy import symbols, latex\n",
    "from IPython.display import display, Math\n",
    "\n",
    "x = symbols('x')\n",
    "q = x\n",
    "r = -4*x**2+8*x+2\n",
    "g = 3*x**3-2*x**2+4*x-1\n",
    "display(Math(r'q\\cdot g+r = ' + latex(q*g) + latex(r) + '=' + latex((q*g+r).simplify()) + ' = f'))\n",
    "\n"
   ]
  },
  {
   "cell_type": "markdown",
   "metadata": {},
   "source": [
    "Observe que $\\gr{r}=2$ e $\\gr{g}=3>\\gr{r}$"
   ]
  },
  {
   "cell_type": "markdown",
   "metadata": {},
   "source": [
    "Quando $r=0$ dizemos que a divisão é exata e que $f$ é divisível por $g$, ou ainda que $g$ é divisor de $f$. "
   ]
  },
  {
   "attachments": {},
   "cell_type": "markdown",
   "metadata": {},
   "source": [
    "## Casos triviais\n",
    "\n",
    "Quando $f=0$, temos que $q=0$ e $r=0$.\n",
    "\n",
    "Quando $f\\neq 0$ e $\\gr{f}<\\gr{g}$, temos $q=0$ e $r=f$. \n",
    "\n",
    "Daqui por diante consideramos apenas os casos em que $\\gr{f}\\geq \\gr{g}$\n",
    "\n"
   ]
  },
  {
   "attachments": {},
   "cell_type": "markdown",
   "metadata": {},
   "source": [
    "## Método de Descartes\n",
    "\n",
    "Algoritmo:\n",
    "1. Analisamos o grau do resto e quociente\n",
    "2. Estipulamos o resto e o quociente em termos de coeficientes desconhecidos\n",
    "3. Aplicamos a definição $f=qg+r$\n",
    "4. Igualamos os termos da igualdade e resolvemos o sistema de equações para os coeficientes desconhecidos. "
   ]
  },
  {
   "attachments": {},
   "cell_type": "markdown",
   "metadata": {},
   "source": [
    "**Exemplo:** Dividir $f=3x^4-2x^3+7x+2$ por $g=3x^3-2x^2+4x-1$\n",
    "\n",
    "1. $\\gr{q} = \\gr{f}-\\gr{g} = 4-3=1$. Logo $q$ deve ser de primeiro grau: $q=ax+b$\n",
    "2. $\\gr{r}<\\gr{g} = 3$. Logo $r$ deve ser no máximo de grau 2: $r=cx^2+dx+e$.\n",
    "\n",
    "Agora, calculamos $qg+r$, agrupando termos de mesma potência em $x$. Vejamos como fazer com simbólico. "
   ]
  },
  {
   "cell_type": "code",
   "execution_count": 22,
   "metadata": {},
   "outputs": [
    {
     "data": {
      "text/latex": [
       "$\\displaystyle q(x) = a x + b$"
      ],
      "text/plain": [
       "<IPython.core.display.Math object>"
      ]
     },
     "metadata": {},
     "output_type": "display_data"
    },
    {
     "data": {
      "text/latex": [
       "$\\displaystyle r(x) = c x^{2} + d x + e$"
      ],
      "text/plain": [
       "<IPython.core.display.Math object>"
      ]
     },
     "metadata": {},
     "output_type": "display_data"
    },
    {
     "data": {
      "text/latex": [
       "$\\displaystyle q\\cdot g + r = 3 a x^{4} - b + e + x^{3} \\left(- 2 a + 3 b\\right) + x^{2} \\cdot \\left(4 a - 2 b + c\\right) + x \\left(- a + 4 b + d\\right)$"
      ],
      "text/plain": [
       "<IPython.core.display.Math object>"
      ]
     },
     "metadata": {},
     "output_type": "display_data"
    }
   ],
   "source": [
    "# Primeiro vamos fazer produto e agrupar os termos de mesma potência\n",
    "from sympy import collect, expand\n",
    "a,b,c,d,e = symbols(['a', 'b', 'c', 'd', 'e'])\n",
    "f = 3*x**4-2*x**3+7*x+2\n",
    "g = 3*x**3-2*x**2+4*x-1\n",
    "q = a*x+b\n",
    "r = c*x**2+d*x+e\n",
    "ff = expand(q*g+r)\n",
    "ff = collect(ff,x)\n",
    "display(Math('q(x) = ' + latex(q)))\n",
    "display(Math('r(x) = ' + latex(r)))\n",
    "display(Math(r'q\\cdot g + r = ' + latex(ff) ))"
   ]
  },
  {
   "cell_type": "code",
   "execution_count": 16,
   "metadata": {},
   "outputs": [
    {
     "data": {
      "text/latex": [
       "$\\displaystyle f = 3 x^{4} - 2 x^{3} + 7 x + 2$"
      ],
      "text/plain": [
       "<IPython.core.display.Math object>"
      ]
     },
     "metadata": {},
     "output_type": "display_data"
    },
    {
     "data": {
      "text/latex": [
       "$\\displaystyle \\left[ 3 = 3 a, \\  -2 = - 2 a + 3 b, \\  0 = 4 a - 2 b + c, \\  7 = - a + 4 b + d, \\  2 = - b + e\\right]$"
      ],
      "text/plain": [
       "<IPython.core.display.Math object>"
      ]
     },
     "metadata": {},
     "output_type": "display_data"
    }
   ],
   "source": [
    "# Agora vamos separar o coeficiente de cada potência e igualar ao correspondente em $f$\n",
    "from sympy import Eq\n",
    "sistema = [Eq(f.coeff(x,n), ff.coeff(x,n)) for n in [4,3,2,1,0]]\n",
    "display(Math('f = ' + latex(f)))\n",
    "display(Math(latex(sistema)))"
   ]
  },
  {
   "cell_type": "code",
   "execution_count": 21,
   "metadata": {},
   "outputs": [
    {
     "data": {
      "text/latex": [
       "$\\displaystyle \\left\\{ a : 1, \\  b : 0, \\  c : -4, \\  d : 8, \\  e : 2\\right\\}$"
      ],
      "text/plain": [
       "<IPython.core.display.Math object>"
      ]
     },
     "metadata": {},
     "output_type": "display_data"
    },
    {
     "data": {
      "text/latex": [
       "$\\displaystyle q(x) = x$"
      ],
      "text/plain": [
       "<IPython.core.display.Math object>"
      ]
     },
     "metadata": {},
     "output_type": "display_data"
    },
    {
     "data": {
      "text/latex": [
       "$\\displaystyle r(x) = - 4 x^{2} + 8 x + 2$"
      ],
      "text/plain": [
       "<IPython.core.display.Math object>"
      ]
     },
     "metadata": {},
     "output_type": "display_data"
    }
   ],
   "source": [
    "# Por fim, resolvemos o sistema de equações\n",
    "from sympy import solve\n",
    "\n",
    "sol = solve(sistema)\n",
    "display(Math(latex(sol)))\n",
    "q = q.subs(sol)\n",
    "display(Math('q(x) = ' + latex(q)))\n",
    "r = r.subs(sol)\n",
    "display(Math('r(x) = ' + latex(r)))"
   ]
  },
  {
   "attachments": {},
   "cell_type": "markdown",
   "metadata": {},
   "source": [
    "## Método da chave ou divisão longa\n",
    "\n",
    "Esse é um método semelhante ao algoritmo que utilizamos para divisão de inteiros decimais. \n",
    "1. Dividimos sempre o termo dominante dividendo pelo termo dominante do divisor, colocando o resultado logo abaixo do divisor, monômio por monômio. \n",
    "2. Ao fazer um passo, levamos o produto do divisor pelo monômio obtido com o sinal trocado de volta ao dividendo e subtraimos as duas parcelas mais recentes.\n",
    "3. Repetimos o processo até que o grau do dividendo seja menor que o do divisor. \n",
    "4. Abaixo da chave temos o quociente. O último dividendo será o resto.\n",
    "\n",
    "Vejamos um exemplo\n",
    "\n",
    "**Exemplo:** Dividir $f=3x^5 -6x^4 +13x^3 -9x^2 +11x -1$ por $g=x^2 -2x +3$\n",
    "\n",
    "Primeiro passo: \n",
    "$$\n",
    "\\begin{align}\n",
    "\\begin{array}{rrrrrr|l}\n",
    "    3x^5 & -6x^4&  +13x^3&  -9x^2&  +11x&  -1 & x^2 -2x +3\\\\\n",
    "    \\hline\n",
    "    -3x^5&  6x^4& -9x^3&         &      &     & 3x^3 \\\\\n",
    "    \\hline\n",
    "    && 4x^3 &- 9x^2 & +11x & -1\n",
    "\\end{array}\n",
    "\\end{align}\n",
    "$$\n",
    "\n",
    "Segundo passo: \n",
    "$$\n",
    "\\begin{align}\n",
    "\\begin{array}{rrrrrr|l}\n",
    "    3x^5 & -6x^4&  +13x^3&  -9x^2&  +11x&  -1 & x^2 -2x +3\\\\\n",
    "    \\hline\n",
    "    -3x^5&  6x^4& -9x^3&         &      &     & 3x^3 +4x\\\\\n",
    "    \\hline\n",
    "    && 4x^3  &- 9x^2 & +11x & -1                          \\\\\n",
    "    && -4x^3 &+ 8x^2 & -12x & \\\\ \\hline\n",
    "    &&       &-  x^2 &   -x & -1\n",
    "\\end{array}\n",
    "\\end{align}\n",
    "$$\n",
    "\n",
    "Terceiro passo: \n",
    "$$\n",
    "\\begin{align}\n",
    "\\begin{array}{rrrrrr|l}\n",
    "    3x^5 & -6x^4&  +13x^3&  -9x^2&  +11x&  -1 & x^2 -2x +3\\\\\n",
    "    \\hline\n",
    "    -3x^5&  6x^4& -9x^3&         &      &     & 3x^3 +4x-1\\\\\n",
    "    \\hline\n",
    "    && 4x^3  &-9x^2 & +11x & -1                          \\\\\n",
    "    && -4x^3 &+8x^2 & -12x & \\\\ \\hline\n",
    "    &&       &-x^2 &   -x & -1\\\\\n",
    "    &&       &+x^2 & -2x  & +3\\\\ \\hline\n",
    "    &&       &     & -3x  & +2\n",
    "\\end{array}\n",
    "\\end{align}\n",
    "$$\n",
    "\n",
    "O grau do dividendo se tornou menor que o do divisor. Isso faz o algoritmo parar. Os resultados então são $q(x) = 3x^3+4x-1$ (abaixo da chave) e $r(x)=-3x+2$ (último dividendo obtido). \n",
    "\n",
    "Alguns livros utilizam apenas os coeficientes no processo, o que deixa a visualização do algoritmo um pouco mais limpa. "
   ]
  },
  {
   "attachments": {},
   "cell_type": "markdown",
   "metadata": {},
   "source": [
    "## Em Python\n",
    "\n",
    "O algoritmo de divisão longa já vem implementado tanto de forma simbólica como numérica, de modo que podemos fazer facilmente essas divisões.\n",
    "\n",
    "Por exemplo, vamos dividir $f= 2x^5 - 3x^4 + 4x^3 - 6x + 7$ por $g = x^3 - x^2 + x - 1$"
   ]
  },
  {
   "cell_type": "code",
   "execution_count": 28,
   "metadata": {},
   "outputs": [
    {
     "data": {
      "text/latex": [
       "$\\displaystyle f=2 x^{5} - 3 x^{4} + 4 x^{3} - 6 x + 7$"
      ],
      "text/plain": [
       "<IPython.core.display.Math object>"
      ]
     },
     "metadata": {},
     "output_type": "display_data"
    },
    {
     "data": {
      "text/latex": [
       "$\\displaystyle g=x^{3} - x^{2} + x - 1$"
      ],
      "text/plain": [
       "<IPython.core.display.Math object>"
      ]
     },
     "metadata": {},
     "output_type": "display_data"
    },
    {
     "data": {
      "text/latex": [
       "$\\displaystyle q=2 x^{2} - x + 1$"
      ],
      "text/plain": [
       "<IPython.core.display.Math object>"
      ]
     },
     "metadata": {},
     "output_type": "display_data"
    },
    {
     "data": {
      "text/latex": [
       "$\\displaystyle r=4 x^{2} - 8 x + 8$"
      ],
      "text/plain": [
       "<IPython.core.display.Math object>"
      ]
     },
     "metadata": {},
     "output_type": "display_data"
    }
   ],
   "source": [
    "# Simbólico\n",
    "f = 2*x**5-3*x**4+4*x**3-6*x+7\n",
    "g = x**3-x**2+x-1\n",
    "from sympy import div\n",
    "q,r = div(f,g,domain='QQ')\n",
    "display(Math('f=' + latex(f)))\n",
    "display(Math('g=' + latex(g)))\n",
    "display(Math('q=' + latex(q)))\n",
    "display(Math('r=' + latex(r)))\n"
   ]
  },
  {
   "cell_type": "code",
   "execution_count": 30,
   "metadata": {},
   "outputs": [
    {
     "data": {
      "text/latex": [
       "$\\displaystyle f=\\mathtt{\\text{[ 2 -3  4  0 -6  7]}}$"
      ],
      "text/plain": [
       "<IPython.core.display.Math object>"
      ]
     },
     "metadata": {},
     "output_type": "display_data"
    },
    {
     "data": {
      "text/latex": [
       "$\\displaystyle g=\\mathtt{\\text{[ 1 -1  1 -1]}}$"
      ],
      "text/plain": [
       "<IPython.core.display.Math object>"
      ]
     },
     "metadata": {},
     "output_type": "display_data"
    },
    {
     "data": {
      "text/latex": [
       "$\\displaystyle q=\\mathtt{\\text{[ 2. -1.  1.]}}$"
      ],
      "text/plain": [
       "<IPython.core.display.Math object>"
      ]
     },
     "metadata": {},
     "output_type": "display_data"
    },
    {
     "data": {
      "text/latex": [
       "$\\displaystyle r=\\mathtt{\\text{[ 4. -8.  8.]}}$"
      ],
      "text/plain": [
       "<IPython.core.display.Math object>"
      ]
     },
     "metadata": {},
     "output_type": "display_data"
    }
   ],
   "source": [
    "# Numérico\n",
    "from numpy import array, polydiv\n",
    "f = array([2,-3,4, 0,-6,7])\n",
    "g = array([1,-1,1,-1])\n",
    "q,r = polydiv(f,g)\n",
    "display(Math('f=' + latex(f)))\n",
    "display(Math('g=' + latex(g)))\n",
    "display(Math('q=' + latex(q)))\n",
    "display(Math('r=' + latex(r)))"
   ]
  },
  {
   "attachments": {},
   "cell_type": "markdown",
   "metadata": {},
   "source": [
    "<center> <img src='ex153-181.svg' width='80%'> </center>"
   ]
  }
 ],
 "metadata": {
  "kernelspec": {
   "display_name": "Python 3",
   "language": "python",
   "name": "python3"
  },
  "language_info": {
   "codemirror_mode": {
    "name": "ipython",
    "version": 3
   },
   "file_extension": ".py",
   "mimetype": "text/x-python",
   "name": "python",
   "nbconvert_exporter": "python",
   "pygments_lexer": "ipython3",
   "version": "3.11.1"
  },
  "orig_nbformat": 4
 },
 "nbformat": 4,
 "nbformat_minor": 2
}
