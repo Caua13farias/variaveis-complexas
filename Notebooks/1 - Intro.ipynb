{
 "cells": [
  {
   "cell_type": "markdown",
   "metadata": {},
   "source": [
    "# Introdução aos números e funções complexas"
   ]
  },
  {
   "cell_type": "markdown",
   "metadata": {},
   "source": [
    "## Números complexos\n",
    "\n",
    "- Unidade imaginária: $j$\n",
    "- Propriedade fundamental: $j^2=-1$ ou $j=\\sqrt{-1}$\n",
    "- Inventada para resolver equações que envolvem raízes de números negativos"
   ]
  },
  {
   "cell_type": "markdown",
   "metadata": {},
   "source": [
    "## Principais Aplicações (em Engenharia)\n",
    "\n",
    "- Circuitos de corrente alternada: facilita *muito* os cálculos\n",
    "- Análise de Fourier: presente em análise de sinais, comunicações e amplificadores\n",
    "- Sistemas de Controle: desempenho de controladores é descrito em termos de números complexos\n",
    "- Eletromagnetismo: problemas de ondas eletromagnéticas\n",
    "\n",
    "Usamos números complexos como uma forma de contornar problemas em equações diferenciais. Ao introduzir grandezas imaginárias, o problema deixa de ser diferencial e passa a ser algébrico, isto é, as únicas operações necessárias para resolvê-lo passam a ser multiplicação e soma, ao invés de integrais."
   ]
  },
  {
   "cell_type": "markdown",
   "metadata": {},
   "source": [
    "Nem todos os problemas podem ser contornados dessa maneira. Normalmente isso só é possível em problemas que envolvem funções **senoidais**.\n",
    "\n",
    "É o caso dos problemas de corrente alternada, onde a fonte de alimentação do circuito é do tipo senoidal: $127\\sqrt{2}\\cos(2\\pi\\cdot 60t)$ "
   ]
  },
  {
   "cell_type": "markdown",
   "metadata": {},
   "source": [
    "## Habilidades importantes\n",
    "\n",
    "Ao longo do curso de Engenharia, é fundamental que você saiba:\n",
    "1. Converter números complexos entre as formas retangular e polar (ou fasorial)\n",
    "2. Fazer operações com números complexos: soma, multiplicação, etc.\n",
    "3. Usar a identidade de Euler: $e^{jx} = \\cos x + j \\sin x$\n",
    "4. Interpretar geometricamente números complexos"
   ]
  },
  {
   "cell_type": "markdown",
   "metadata": {},
   "source": [
    "## Conteúdo do curso\n",
    "\n",
    "1. Álgebra de números complexos\n",
    "    * Soma, multiplicação\n",
    "    * Conjugação, divisão\n",
    "    * Forma retangular e polar\n",
    "    * Equação de Euler, formas trigonométrica/fasorial/exponencial\n",
    "    * Potenciação\n",
    "    * Radiciação\n",
    "2. Revisão de polinômios\n",
    "    * Definição, igualdade\n",
    "    * Operações: soma, multiplicação\n",
    "    * Valor numérico\n",
    "    * Expansões polinomiais básicas: 2o e 3o graus, binômio de Newton\n",
    "    * Divisão de polinômios: divisão longa, algoritmo de Briot-Rufini\n",
    "    * Equações polinomiais simples\n",
    "3. Frações parciais e resíduos\n",
    "    * Funções racionais: definição e domínio\n",
    "    * Expansão em frações parciais: definição, métodos, casos especiais\n",
    "4. Funções complexas\n",
    "    * Considerações sobre domínios complexos\n",
    "    * Representação gráfica de funções complexas\n",
    "    * Avaliação de funções com domínio complexo\n",
    "    * Derivadas de funções complexas\n",
    "    * Integrais em domínios complexos\n",
    "    * Teorema dos resíduos: considerações e aplicações\n"
   ]
  },
  {
   "cell_type": "markdown",
   "metadata": {},
   "source": [
    "## Metodologia\n",
    "\n",
    "- Muito exercício!\n",
    "- Conferir exercícios com Python\n",
    "- Python numérico e simbólico\n",
    "- Discussões e exercícios em sala"
   ]
  }
 ],
 "metadata": {
  "kernelspec": {
   "display_name": "Python 3 (ipykernel)",
   "language": "python",
   "name": "python3"
  },
  "language_info": {
   "codemirror_mode": {
    "name": "ipython",
    "version": 3
   },
   "file_extension": ".py",
   "mimetype": "text/x-python",
   "name": "python",
   "nbconvert_exporter": "python",
   "pygments_lexer": "ipython3",
   "version": "3.11.1"
  },
  "vscode": {
   "interpreter": {
    "hash": "3e3763a57b4ffe0d06e963ec4b7f8ef3a748cbfdb342037439726ee83e94c05b"
   }
  }
 },
 "nbformat": 4,
 "nbformat_minor": 4
}
