{
 "cells": [
  {
   "cell_type": "markdown",
   "metadata": {},
   "source": [
    "# **Ferramentas úteis**"
   ]
  },
  {
   "cell_type": "markdown",
   "metadata": {},
   "source": [
    "Ao longo deste curso, vamos utilizar esses arquivos com extensão *.ipynb*, que chamamos  de *Notebooks*. Praticamente todo o material do curso será fornecido neste formato. É desejável também que você faça e apresente os trabalhos neste formato. \n",
    "\n",
    "Este tipo de arquivo utiliza uma linguagem que chamam de [*Markdown*](https://ajuda.gitlab.io/guia-rapido/markdown/markdown/). É uma linguagem simples que permite escrever, formatar e renderizar texto de forma rápida e com qualidade.\n",
    "\n",
    "Há duas vantagens que notebooks nos proporcionam :\n",
    "1. Além de texto normal, conseguimos rodar e renderizar código LaTeX em notebook.\n",
    "2. Conseguimos rodar código Python dentro de um notebook. "
   ]
  },
  {
   "cell_type": "markdown",
   "metadata": {},
   "source": [
    "## **O que é LaTeX?**\n",
    "\n",
    "[LaTeX](https://pt.overleaf.com/learn/latex/Learn_LaTeX_in_30_minutes) é um tipo de software/linguagem usada para produzir texto de qualidade superior, de particular interesse para trabalhos acadêmicos/científicos. \n",
    "\n",
    "Nosso maior interesse em LaTeX aqui é oferecer escrita matemática (equações, expressõs, fórmulas, etc.) de qualidade superior. Esqueça o Word ou o Google Docs: para escrever uma integral ou uma fórmula bonita, LaTeX é o melhor caminho. \n",
    "\n",
    "Para escrever matemática no notebook, você pode fazer de duas maneiras:\n",
    "1. Se for uma expressão pequena, no meio do parágrafo, escreva a expressão entre dois \\$.\n",
    "2. Se for uma equação que você quer separar do parágrafo, crie um bloco entre dois pares de \\$. "
   ]
  },
  {
   "cell_type": "markdown",
   "metadata": {},
   "source": [
    "## **O que é Python?**\n",
    "\n",
    "[Python](https://docs.python.org/pt-br/3/tutorial/) é uma linguagem de programação em script (não precisa compilar) que está bastante na moda agora (2023). Na área de Engenharia está se tornando praticamente obrigatório saber Python para analisar dados, simular sistemas e desenvolver aplicações. Portanto, é uma boa você começar a fazer algumas coisas desde já.\n",
    "\n",
    "No curso de Eng. Elétrica você pode usar Python em várias situações. Alguns dos pacotes que usamos com mais frequência.\n",
    "* [SymPy](https://www.sympy.org/pt/index.html) - para cálculos analíticos.\n",
    "* [NumPy](https://numpy.org/) - para cálculos e procesamento numérico\n",
    "* [SciPy](https://scipy.org/) - miscelânea de funções estatísticas, matemática avançada, equações diferenciais, etc.\n",
    "* [Pandas](https://pandas.pydata.org/) - gerenciamento de arquivos e dados\n",
    "* [Matplotlib](https://matplotlib.org/) - gráficos\n",
    "\n",
    "Na disciplina de variáveis complexas vamos usar Python como uma calculadora. Facilita muito as contas tediosas, permitindo que você se concentre nos resultados.\n",
    "\n",
    "**No entanto, é importante que você SAIBA como chegar, MANUALMENTE, em todos os resultados que o computador fornece**. \n",
    "\n",
    "O objetivo é saber usar o computador para realizar cálculos repetitivos e tediosos, mas que você **SABE** fazer. "
   ]
  },
  {
   "cell_type": "markdown",
   "metadata": {},
   "source": [
    "## **O que eu preciso?**\n",
    "\n",
    "Você pode abrir notebooks de diversas formas. O jeito mais direto é usar a plataforma [Google Colab](https://colab.research.google.com/), que roda direto no seu navegador da internet (recomendado apenas no computador; sem garantia de ver legal no celular). No Colab, você normalmente não vai precisar instalar nada. A desvantagem é apenas que precisa de uma conexão com a internet para abrir no Colab.\n",
    "\n",
    "Se preferir fazer tudo localmente em um PC (pode ser o seu próprio ou no InfoCentro do Campus), você vai precisar do seguinte:\n",
    "- Uma distribuição Python. Recomendo pegar direto no site oficial [python.org](www.python.org)\n",
    "- Uma distribuição LaTeX. No Windows, normalmente usamos o [MikTeX](https://miktex.org/)\n",
    "- Um editor para notebooks. Há várias opções. A mais comum é o [Jupyter](https://jupyter.org/), mas o [VSCode](https://code.visualstudio.com/) também é uma boa pedida (é o que eu uso)."
   ]
  },
  {
   "cell_type": "markdown",
   "metadata": {},
   "source": [
    "## **Não se intimide!**\n",
    "\n",
    "À primeira vista pode parecer trabalhoso ter que \"aprender\" essas outras linguagens ao longo do curso, especialmente considerando que você vai estar estudando o assunto principal (números complexos). No entanto, você vai ver que é bastante tranquilo. E o tempo que vc se dedicar agora vai se pagar lá na frente, porque essas habilidades de programar e escrever texto serão úteis em outras disciplinas.\n",
    "\n",
    "Primeiro, entenda o seguinte: o que você está lendo agora é o texto *renderizado* e não código. \n",
    "\n",
    "Quando você clica duas vezes em um pedaço de texto renderizado, aí sim o notebook vai abrir o código que o gerou.\n",
    "\n",
    "Você vai ver que a maior parte desse \"código\" é **texto simples**. \n",
    "Usamos códigos apenas em trechos bem específicos, para escrever uma equação, por exemplo. Mas mesmo nestes casos, o código não costuma ser longo nem complicado.\n",
    "\n",
    "**Habitue-se sempre a clicar duas vezes para ler o código** por trás do texto renderizado. É assim que você vai conhecer os comandos e funções para resolver os problemas, olhando exemplos. Por exemplo, se você clicar neste trecho (que chamamos célula), você já vai aprender como escrever texto em **negrito**."
   ]
  },
  {
   "cell_type": "markdown",
   "metadata": {},
   "source": [
    "**Por exemplo,** clique nesta célula para ver exemplo de matemática no meio do parágrafo:  $y = A \\sin(2\\pi f t + \\phi)$"
   ]
  },
  {
   "cell_type": "markdown",
   "metadata": {},
   "source": [
    "**Outro exemplo**: equação separada do parágrafo (centralizada na página). Clique duas vezes e observe como usar o ambiente LaTeX *align*\n",
    "$$\n",
    "\\begin{align}\n",
    "    \\dot{x} &= v\\\\\n",
    "    \\dot{v} &= \\frac{1}{m}u - \\frac{k}{m}x\n",
    "\\end{align}\n",
    "$$"
   ]
  },
  {
   "cell_type": "markdown",
   "metadata": {},
   "source": [
    "Como você pode ver, a qualidade das equações é muito boa. Isso pra nós é importante porque matemática é uma linguagem que usamos com frequência e não podemos correr o risco de não ser entendida por causa de caligrafia ou desorganização.\n",
    "\n",
    "Portanto, faça um esforcinho para aprender o básico de LaTeX, que é realmente o que dá pra usar aqui no notebook. Para textos mais complexos, como artigos científicos, livros e até o seu TCC aí você já vai querer um editor LaTeX pra valer. "
   ]
  }
 ],
 "metadata": {
  "kernelspec": {
   "display_name": "Python 3 (ipykernel)",
   "language": "python",
   "name": "python3"
  },
  "language_info": {
   "codemirror_mode": {
    "name": "ipython",
    "version": 3
   },
   "file_extension": ".py",
   "mimetype": "text/x-python",
   "name": "python",
   "nbconvert_exporter": "python",
   "pygments_lexer": "ipython3",
   "version": "3.11.1"
  },
  "vscode": {
   "interpreter": {
    "hash": "3e3763a57b4ffe0d06e963ec4b7f8ef3a748cbfdb342037439726ee83e94c05b"
   }
  }
 },
 "nbformat": 4,
 "nbformat_minor": 4
}
