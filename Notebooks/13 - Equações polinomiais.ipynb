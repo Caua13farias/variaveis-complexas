{
 "cells": [
  {
   "attachments": {},
   "cell_type": "markdown",
   "metadata": {},
   "source": [
    "# **Equações polinomiais**"
   ]
  },
  {
   "attachments": {},
   "cell_type": "markdown",
   "metadata": {},
   "source": [
    "## Raízes\n",
    "\n",
    "## Teorema fundamental\n"
   ]
  },
  {
   "attachments": {},
   "cell_type": "markdown",
   "metadata": {},
   "source": [
    "## Decomposição de polinômios em suas raízes\n",
    "\n",
    "Qualquer polinômio de grau $n$ pode ser escrito como o produto de $n$ monômios de grau $1$. Cada monômio é escrito como $(s-z_i)$, onde $z_i$ é uma das raízes do referido polinômio. \n",
    "\n",
    "$$\n",
    "\\begin{align}\n",
    "    P(s) = a_n(s-z_1)(s-z_2)\\ldots(s-z_n)\n",
    "\\end{align}\n",
    "$$\n",
    "\n",
    "O termo $a_n$ é introduzido para o caso do coeficiente principal não ser $1$. "
   ]
  },
  {
   "attachments": {},
   "cell_type": "markdown",
   "metadata": {},
   "source": [
    "## Multiplicidade de uma raiz\n",
    "\n",
    "Quando uma ou mais raízes coincidem, temos o que chamamos de raízes múltiplas ou raízes repetidas.\n",
    "\n",
    "**Ex:** O polinômio em $s$ mônico que possui três raízes em $s-3$:\n",
    "$$\n",
    "\\begin{align}\n",
    "H(s) = (s-(-3))(s-(-3))(s-(-3))=(s+3)^3\n",
    "\\end{align}\n",
    "$$\n",
    "\n",
    "**Ex:** O polinômio:\n",
    "$$\n",
    "\\begin{align}\n",
    "A(s) = s^3(s+1-2j)(s+1+2j)(s-13)^7\n",
    "\\end{align}\n",
    "$$\n",
    "possui uma raíz de multiplicidade $3$ em $s=0$ e uma raiz de multiplicidade $7$ em $s=13$. \n"
   ]
  },
  {
   "cell_type": "code",
   "execution_count": 10,
   "metadata": {},
   "outputs": [
    {
     "name": "stdout",
     "output_type": "stream",
     "text": [
      "[  1.  -1. -11.  13.  26. -20. -24.]\n"
     ]
    }
   ],
   "source": [
    "from numpy import poly, roots\n",
    "# Construir um polinômio cujas raízes são {-1,-1,-3,2,2,2}\n",
    "P = poly([-1,-1,-3,2,2,2])\n",
    "print(P)\n"
   ]
  },
  {
   "attachments": {},
   "cell_type": "markdown",
   "metadata": {},
   "source": [
    "## Raízes conjugadas\n",
    "\n",
    "Se $z$ é um número imaginário de um polinômio cujos coeficientes são **puramente reais**, então $\\bar{z}$ também é raiz desse polinômio. Em outras palavras, raízes imaginárias ocorrem pares conjugados quando polinômio tem todos os coeficientes reais.\n",
    "\n",
    "**Ex**: $P(s) = s^2+9$, raízes $s=\\pm j3$. \n",
    "\n",
    "Observe o código abaixo. Ele constrói um polinômio de grau 5 com coeficientes reais aleatoriamente escolhidos. Rode o código várias vezes e tire uma conclusão. "
   ]
  },
  {
   "cell_type": "code",
   "execution_count": 23,
   "metadata": {},
   "outputs": [
    {
     "name": "stdout",
     "output_type": "stream",
     "text": [
      "Polinômio:  [ 7  0  7  4  9 15]\n",
      "Raízes:  [ 0.83+0.98j  0.83-0.98j -0.37+1.13j -0.37-1.13j -0.92+0.j  ]\n"
     ]
    }
   ],
   "source": [
    "import numpy.random\n",
    "\n",
    "p = numpy.random.randint(20,size=6)\n",
    "print('Polinômio: ', p)\n",
    "print('Raízes: ', roots(p).round(2))"
   ]
  },
  {
   "attachments": {},
   "cell_type": "markdown",
   "metadata": {},
   "source": [
    "## Localização de raízes (Critério de Routh-Hurwitz)\n",
    "\n",
    "O critério de Routh-Hurwitz é um dispositivo prático que permite determinar quantas raízes de um polinômio estão localizadas no semiplano direito dos números complexos, sem resolver a equação. Este é um problema importante em teoria de sistemas de controle. \n",
    "\n",
    "O dispositivo consiste dos seguintes passos:\n",
    "1. Construir a tabela de Routh\n",
    "2. Analisar a primeira coluna desta tabela\n",
    "3. Contar quantas mudanças de sinal ocorrem.\n",
    "4. O número de mudanças de sinal é o número de raízes no semi plano direito."
   ]
  }
 ],
 "metadata": {
  "kernelspec": {
   "display_name": "Python 3",
   "language": "python",
   "name": "python3"
  },
  "language_info": {
   "codemirror_mode": {
    "name": "ipython",
    "version": 3
   },
   "file_extension": ".py",
   "mimetype": "text/x-python",
   "name": "python",
   "nbconvert_exporter": "python",
   "pygments_lexer": "ipython3",
   "version": "3.11.1"
  },
  "orig_nbformat": 4
 },
 "nbformat": 4,
 "nbformat_minor": 2
}
