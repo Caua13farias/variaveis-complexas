{
 "cells": [
  {
   "attachments": {},
   "cell_type": "markdown",
   "metadata": {},
   "source": [
    "# **Potenciação**\n",
    "\n",
    "## Fórmula de Euler\n",
    "\n",
    "Uma das relações complexas mais importantes é a fórmula de Euler. Ela estabelece que:\n",
    "$$\n",
    "\\begin{align}\n",
    "    e^{j\\theta} = \\cos \\theta + j\\sin \\theta\n",
    "\\end{align}\n",
    "$$\n",
    "\n",
    "A dedução não é complicada, e tem a ver com a expansão em séries de potência das funções seno e cosseno (você deve ter visto isso em cálculo)\n",
    "$$\n",
    "\\begin{align}\n",
    "    \\cos \\theta &= 1 - \\frac{\\theta^2}{2!}+\\frac{\\theta^4}{4!}+\\dots\\\\\n",
    "    \\sin \\theta &= \\theta + \\frac{\\theta^3}{3!}+\\frac{\\theta^5}{5!}+\\dots\n",
    "\\end{align}\n",
    "$$\n",
    "\n"
   ]
  },
  {
   "cell_type": "markdown",
   "metadata": {},
   "source": [
    "Obs: em Engenharia, não é raro encontrar a seguinte notação $\\angle \\theta = e^{j\\theta}$.\n",
    "\n",
    "Notar que ao colocar na exponencial, a fase do número deve obrigatoriamente estar em radianos. Alguns autores colocam em graus, mas neste caso eles explicitamente informam a unidade.\n",
    "\n",
    "- $e^{j\\pi/6} \\rightarrow$ correto\n",
    "- $e^{j0.5236} \\rightarrow$ correto\n",
    "- $e^{j30^{\\circ}} \\rightarrow$ aceitável\n",
    "- $e^{j30} \\rightarrow$ incorreto se a intenção é denotar $30$ graus. \n"
   ]
  },
  {
   "cell_type": "markdown",
   "metadata": {},
   "source": [
    "A expresão exponencial $e^{j\\theta}$ pode ser trabalhada com todas as regras de potência convencionais que conhecemos. Desta forma fica muito fácil trabalhar com números complexos."
   ]
  },
  {
   "cell_type": "markdown",
   "metadata": {},
   "source": [
    "Lembre-se que, para qualquer base $b$:\n",
    "$$\n",
    "\\begin{align}\n",
    "    b^{x+y} &= b^x\\cdot b^y\\\\\n",
    "    b^{-x} &= \\frac{1}{b^x}\\\\\n",
    "    (b^x)^y &= b^{xy}\n",
    "\\end{align}\n",
    "$$"
   ]
  },
  {
   "cell_type": "markdown",
   "metadata": {},
   "source": [
    "## **Produto complexo usando forma polar**\n",
    "\n",
    "Sejam: \n",
    "$$\n",
    "\\begin{align}\n",
    "z_1 &= \\rho_1e^{j\\theta_1}\\\\\n",
    "z_2 &=\\rho_2e^{j\\theta_2}\n",
    "\\end{align}\n",
    "$$\n",
    "\n",
    "Então: \n",
    "$$\n",
    "\\begin{align}\n",
    "z_1z_2 = \\rho_1\\,e^{j\\theta_1}\\cdot \\rho_2\\,e^{j\\theta_2}=\\rho_1\\rho_2\\,e^{j(\\theta_1+\\theta_2)}\n",
    "\\end{align}\n",
    "$$\n",
    "\n",
    "Logo: \n",
    "$$\n",
    "\\begin{align}\n",
    "z_1z_2 = \\rho_1\\rho_2[\\cos(\\theta_1+\\theta_2)+j\\sin(\\theta_1+\\theta_2)]\n",
    "\\end{align}\n",
    "$$\n",
    "\n",
    "Para multiplicar dois números complexos:\n",
    "- O módulo do produto é o produto dos módulos\n",
    "- A fase do produto é a soma das fases."
   ]
  },
  {
   "cell_type": "markdown",
   "metadata": {},
   "source": [
    "**Exemplos**\n",
    "\n",
    "$z_1=2(\\cos \\frac{\\pi}{6}+ j\\,\\sin \\frac{\\pi}{6})$ e $z_2=3(\\cos \\frac{\\pi}{3}+ j\\,\\sin \\frac{\\pi}{3})$\n",
    "\n",
    "Então:\n",
    "$$\n",
    "\\begin{align}\n",
    "z_1z_2 &= (2\\cdot 3) \\left[\\cos \\left(\\frac{\\pi}{6}+\\frac{\\pi}{3}\\right)+j\\,\\sin \\left(\\frac{\\pi}{6}+\\frac{\\pi}{3}\\right)\\right]\\\\\n",
    "&= 6 \\left[\\cos \\left(\\frac{\\pi}{2}\\right)+j\\,\\sin \\left(\\frac{\\pi}{2}\\right)\\right]\\\\\n",
    "&= 6j\n",
    "\\end{align}\n",
    "$$\n",
    "\n",
    "Em Python:"
   ]
  },
  {
   "cell_type": "code",
   "execution_count": 8,
   "metadata": {
    "tags": []
   },
   "outputs": [],
   "source": [
    "# Importação de bibliotecas\n",
    "from IPython.display import display,Math\n",
    "import numpy as np\n",
    "from sympy import cos, sin, pi, latex, I\n",
    "dmath = lambda s: display(Math(s))"
   ]
  },
  {
   "cell_type": "code",
   "execution_count": 14,
   "metadata": {},
   "outputs": [
    {
     "data": {
      "text/latex": [
       "$\\displaystyle z_1 = (1.7321+1j)$"
      ],
      "text/plain": [
       "<IPython.core.display.Math object>"
      ]
     },
     "metadata": {},
     "output_type": "display_data"
    },
    {
     "data": {
      "text/latex": [
       "$\\displaystyle z_2 = (1.5+2.5981j)$"
      ],
      "text/plain": [
       "<IPython.core.display.Math object>"
      ]
     },
     "metadata": {},
     "output_type": "display_data"
    },
    {
     "data": {
      "text/latex": [
       "$\\displaystyle z_1z_2 = 6j$"
      ],
      "text/plain": [
       "<IPython.core.display.Math object>"
      ]
     },
     "metadata": {},
     "output_type": "display_data"
    }
   ],
   "source": [
    "z1 = 2*(np.cos(np.pi/6)+1j*np.sin(np.pi/6))\n",
    "z2 = 3*(np.cos(np.pi/3)+1j*np.sin(np.pi/3))\n",
    "dmath('z_1 = '+ f'{z1.round(4)}')\n",
    "dmath('z_2 = '+ f'{z2.round(4)}')\n",
    "dmath('z_1z_2 = ' + f'{(z1*z2).round(4)}')"
   ]
  },
  {
   "cell_type": "markdown",
   "metadata": {},
   "source": [
    "Usando simbólico agora"
   ]
  },
  {
   "cell_type": "code",
   "execution_count": 15,
   "metadata": {
    "tags": []
   },
   "outputs": [
    {
     "data": {
      "text/latex": [
       "$\\displaystyle z_1 = \\sqrt{3} + i$"
      ],
      "text/plain": [
       "<IPython.core.display.Math object>"
      ]
     },
     "metadata": {},
     "output_type": "display_data"
    },
    {
     "data": {
      "text/latex": [
       "$\\displaystyle z_2 = \\frac{3}{2} + \\frac{3 \\sqrt{3} i}{2}$"
      ],
      "text/plain": [
       "<IPython.core.display.Math object>"
      ]
     },
     "metadata": {},
     "output_type": "display_data"
    },
    {
     "data": {
      "text/latex": [
       "$\\displaystyle z_1z_2 = \\left(\\frac{3}{2} + \\frac{3 \\sqrt{3} i}{2}\\right) \\left(\\sqrt{3} + i\\right)=6 i$"
      ],
      "text/plain": [
       "<IPython.core.display.Math object>"
      ]
     },
     "metadata": {},
     "output_type": "display_data"
    }
   ],
   "source": [
    "from sympy import cos, sin, pi, I, latex, simplify\n",
    "\n",
    "z1 = 2*(cos(pi/6)+I*sin(pi/6))\n",
    "z2 = 3*(cos(pi/3)+I*sin(pi/3))\n",
    "dmath('z_1 = '+ latex(z1))\n",
    "dmath('z_2 = '+ latex(z2))\n",
    "dmath('z_1z_2 = ' +latex(z1*z2) + '=' +  latex(simplify(z1*z2)))"
   ]
  },
  {
   "cell_type": "markdown",
   "metadata": {},
   "source": [
    "## Generalizando\n",
    "\n",
    "Podemos generalizar o procedimento para um produto com qualquer número de fatores. Isto é, multiplica-se todos os módulos e soma-se todas as fases (reduza o quadrante se for necessário)."
   ]
  },
  {
   "cell_type": "markdown",
   "metadata": {},
   "source": [
    "## Potenciação\n",
    "\n",
    "Aproveitando o resultado anterior, se tivermos um produto de $n$ fatores iguais, então definimos:  \n",
    "$$\n",
    "\\begin{align}\n",
    "z^n &= \\rho^n\\,e^{jn\\theta} = \\rho^n \\left[\\cos (n\\theta) + j\\,\\sin (n\\theta)\\right] \n",
    "\\end{align}\n",
    "$$"
   ]
  },
  {
   "attachments": {},
   "cell_type": "markdown",
   "metadata": {},
   "source": [
    "<center> <img src=\"ex76-83.svg\" width=\"80%\"> </center>"
   ]
  },
  {
   "cell_type": "code",
   "execution_count": 1,
   "metadata": {},
   "outputs": [],
   "source": [
    "import sympy as sp"
   ]
  },
  {
   "cell_type": "code",
   "execution_count": 2,
   "metadata": {},
   "outputs": [
    {
     "data": {
      "text/latex": [
       "$\\displaystyle \\pi - \\operatorname{atan}{\\left(1.0 \\sqrt{3} \\right)}$"
      ],
      "text/plain": [
       "pi - atan(1.0*sqrt(3))"
      ]
     },
     "execution_count": 2,
     "metadata": {},
     "output_type": "execute_result"
    }
   ],
   "source": [
    "sp.arg(-1/2+sp.I*sp.sqrt(3)/2)"
   ]
  },
  {
   "cell_type": "code",
   "execution_count": 6,
   "metadata": {},
   "outputs": [
    {
     "data": {
      "text/latex": [
       "$\\displaystyle \\pi - \\operatorname{atan}{\\left(1.0 \\sqrt{3} \\right)}$"
      ],
      "text/plain": [
       "pi - atan(1.0*sqrt(3))"
      ]
     },
     "execution_count": 6,
     "metadata": {},
     "output_type": "execute_result"
    }
   ],
   "source": [
    "sp.atan2(sp.sqrt(3)/2,-1/2).simplify()"
   ]
  },
  {
   "cell_type": "code",
   "execution_count": 15,
   "metadata": {},
   "outputs": [
    {
     "data": {
      "text/latex": [
       "$\\displaystyle - \\frac{1}{2} + \\frac{\\sqrt{3} i}{2}$"
      ],
      "text/plain": [
       "-1/2 + sqrt(3)*I/2"
      ]
     },
     "execution_count": 15,
     "metadata": {},
     "output_type": "execute_result"
    }
   ],
   "source": [
    "z=-sp.Rational(1,2)+sp.I*sp.sqrt(3)*sp.Rational(1,2)\n",
    "(z**100).simplify()\n"
   ]
  }
 ],
 "metadata": {
  "kernelspec": {
   "display_name": "Python 3 (ipykernel)",
   "language": "python",
   "name": "python3"
  },
  "language_info": {
   "codemirror_mode": {
    "name": "ipython",
    "version": 3
   },
   "file_extension": ".py",
   "mimetype": "text/x-python",
   "name": "python",
   "nbconvert_exporter": "python",
   "pygments_lexer": "ipython3",
   "version": "3.11.1"
  },
  "vscode": {
   "interpreter": {
    "hash": "3e3763a57b4ffe0d06e963ec4b7f8ef3a748cbfdb342037439726ee83e94c05b"
   }
  }
 },
 "nbformat": 4,
 "nbformat_minor": 4
}
