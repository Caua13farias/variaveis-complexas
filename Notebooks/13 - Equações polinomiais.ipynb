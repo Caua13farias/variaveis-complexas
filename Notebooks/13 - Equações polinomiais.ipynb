{
 "cells": [
  {
   "attachments": {},
   "cell_type": "markdown",
   "metadata": {},
   "source": [
    "# **Equações polinomiais**"
   ]
  },
  {
   "attachments": {},
   "cell_type": "markdown",
   "metadata": {},
   "source": [
    "## Raízes\n",
    "\n",
    "## Teorema fundamental\n",
    "\n",
    "## Decomposição de polinômios em suas raízes\n",
    "\n",
    "## Multiplicidade de uma raiz\n",
    "\n",
    "## Raízes conjugadas\n",
    "\n",
    "## Localização de raízes (Critério de Routh-Hurwitz)"
   ]
  }
 ],
 "metadata": {
  "kernelspec": {
   "display_name": "Python 3",
   "language": "python",
   "name": "python3"
  },
  "language_info": {
   "name": "python",
   "version": "3.11.1"
  },
  "orig_nbformat": 4
 },
 "nbformat": 4,
 "nbformat_minor": 2
}
