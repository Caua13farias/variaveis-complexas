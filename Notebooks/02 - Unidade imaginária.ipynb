{
 "cells": [
  {
   "cell_type": "markdown",
   "metadata": {},
   "source": [
    "# Unidade imaginária"
   ]
  },
  {
   "cell_type": "markdown",
   "metadata": {},
   "source": [
    "## 1 Definição\n",
    "\n",
    "$j^2=-1$\n",
    "\n",
    "Um número complexo é um número formado por um número real + um número imaginário. Essa é a chamada forma **retangular**\n",
    "$$\n",
    "\\begin{align}\n",
    "    z = a+j\\cdot b\n",
    "\\end{align}\n",
    "$$\n",
    "\n",
    "Parte real = $\\Re\\{z\\} = a$\n",
    "\n",
    "Parte imaginária = $\\Im\\{z\\} = b$\n",
    "\n",
    "### Exemplos:\n",
    "\n",
    "$$\n",
    "\\begin{align}\n",
    "    z_1 &= 1+2j\\\\\n",
    "    z_2 &= -5-10.2j\\\\\n",
    "    z_3 &= \\sqrt{3}+j\\frac{\\pi}{7}\n",
    "\\end{align}\n",
    "$$\n"
   ]
  },
  {
   "cell_type": "markdown",
   "metadata": {},
   "source": [
    "Trabalhe com o $j$ como se fosse uma variável algébrica comum. Você pode colocá-lo em evidência, somar termos semelhantes, distribuir na multiplicação, etc. A única regra especial que ele deve obedecer é a sua própria definição: $j^2=-1$"
   ]
  },
  {
   "cell_type": "markdown",
   "metadata": {},
   "source": [
    "## 2 - Em Python\n",
    "\n",
    "Python é uma linguagem que trabalha nativamente com números complexos, o que ajuda muito para trabalho em Engenharia. Outras linguagens como o Matlab, R e Julia também tem suporte nativo. Algumas calculadoras de mão também permitem contas com números complexos.\n",
    "\n",
    "Para definir um número imaginário em Python, escreva o número decimal seguido de \"j\", sem colocar nenhum símbolo. Por exemplo, para escrever $j$ escreva apenas \"1j\"; para escrever $-j8$, escreva \"-8j\". Acompanhe no código a seguir"
   ]
  },
  {
   "cell_type": "code",
   "execution_count": 5,
   "metadata": {},
   "outputs": [
    {
     "name": "stdout",
     "output_type": "stream",
     "text": [
      "z1 =  (-1+5j)\n",
      "z2 =  (8.52-9.37j)\n"
     ]
    }
   ],
   "source": [
    "z1 = -1+5j\n",
    "print(\"z1 = \", z1)\n",
    "z2 = 8.52-9.37j\n",
    "print(\"z2 = \", z2)"
   ]
  },
  {
   "cell_type": "markdown",
   "metadata": {},
   "source": [
    "As funções \"real\" e \"imag\" do pacote numpy permitem extrair a parte real e imaginária de um número complexo. "
   ]
  },
  {
   "cell_type": "code",
   "execution_count": 12,
   "metadata": {},
   "outputs": [
    {
     "name": "stdout",
     "output_type": "stream",
     "text": [
      "Parte real de z1 =  -1.0\n",
      "Parte imaginária de z1 =  5.0\n"
     ]
    }
   ],
   "source": [
    "import numpy as np\n",
    "print(\"Parte real de z1 = \", np.real(z1))\n",
    "print(\"Parte imaginária de z1 = \", np.imag(z1))"
   ]
  },
  {
   "cell_type": "markdown",
   "metadata": {},
   "source": [
    "Se estiver usando matemática simbólica, ainda é possível extrair as partes com as funções \"re\" e \"imag\". No entanto, quando estiver lidando com variáveis simbólicas, é necessário ser bastante preciso e informar quais grandezas são puramente reais para ele poder extrair corretamente. Mais sobre isso quando for oportuno. "
   ]
  },
  {
   "cell_type": "markdown",
   "metadata": {},
   "source": [
    "## 3 - Potências de $j$\n",
    "\n",
    "Calcule potências de $j$ usando regras de potência normalmente. Apenas lembre da definição dele.\n",
    "\n",
    "- $j^0 = 1$\n",
    "- $j^1 = j$\n",
    "- $j^2 = -1$\n",
    "- $j^3 = j^2\\cdot j = -j$\n",
    "- $j^4 = j^3\\cdot j = 1$\n",
    "\n",
    "Repare que desse ponto em diante, os resultados vão se repetir no ciclo $(1,j,-1,-j)$\n",
    "\n",
    "Assim, potências muito grandes de $j$ podem ser facilmente calculadas, porque o resultado será sempre um desses quatro.\n",
    "\n",
    "Para calcular uma potência alta, divida o expoente por 4 e avalie o resultado usando apenas o resto da divisão."
   ]
  },
  {
   "cell_type": "markdown",
   "metadata": {},
   "source": [
    "## Exemplo: \n",
    "\n",
    "Calcule $j^{51}$.\n",
    "\n",
    "Ao dividir 51 por 4, o quociente é 12 e o resto é 3. Assim:\n",
    "$$\n",
    "\\begin{align}\n",
    "j^{51} &= j^{12\\cdot 4+ 3}\\\\\n",
    "&= (j^{4})^{12}\\cdot j^3\\\\\n",
    "& = 1 \\cdot j^3\\\\\n",
    "&= j^3 = -j\n",
    "\\end{align}\n",
    "$$"
   ]
  },
  {
   "cell_type": "markdown",
   "metadata": {},
   "source": [
    "Na maioria das linguagens de programação você pode calcular o resto de uma divisão inteira usando a função mod()"
   ]
  },
  {
   "cell_type": "code",
   "execution_count": 14,
   "metadata": {
    "tags": []
   },
   "outputs": [
    {
     "data": {
      "text/latex": [
       "$\\displaystyle j^{51} = j^3 = (-0-1j)$"
      ],
      "text/plain": [
       "<IPython.core.display.Math object>"
      ]
     },
     "metadata": {},
     "output_type": "display_data"
    }
   ],
   "source": [
    "import numpy as np\n",
    "from IPython.display import display, Math\n",
    "\n",
    "dmath = lambda s: display(Math(s))\n",
    "\n",
    "n = np.mod(51,4)\n",
    "dmath(r'j^{51} = j^3 = ' + f'{1j**n}')"
   ]
  },
  {
   "cell_type": "markdown",
   "metadata": {},
   "source": [
    "Podemos chegar no mesmo resultado usando a operação original"
   ]
  },
  {
   "cell_type": "code",
   "execution_count": 9,
   "metadata": {},
   "outputs": [
    {
     "data": {
      "text/plain": [
       "(-0-1j)"
      ]
     },
     "execution_count": 9,
     "metadata": {},
     "output_type": "execute_result"
    }
   ],
   "source": [
    "1j**51"
   ]
  }
 ],
 "metadata": {
  "kernelspec": {
   "display_name": "Python 3 (ipykernel)",
   "language": "python",
   "name": "python3"
  },
  "language_info": {
   "codemirror_mode": {
    "name": "ipython",
    "version": 3
   },
   "file_extension": ".py",
   "mimetype": "text/x-python",
   "name": "python",
   "nbconvert_exporter": "python",
   "pygments_lexer": "ipython3",
   "version": "3.11.1"
  },
  "vscode": {
   "interpreter": {
    "hash": "e1735dd0795dce195fb98475ccf229151ed44a61fb274eb18cdb7c8302916985"
   }
  }
 },
 "nbformat": 4,
 "nbformat_minor": 4
}
