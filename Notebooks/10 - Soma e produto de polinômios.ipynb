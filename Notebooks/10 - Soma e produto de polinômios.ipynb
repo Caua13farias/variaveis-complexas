{
 "cells": [
  {
   "attachments": {},
   "cell_type": "markdown",
   "metadata": {},
   "source": [
    "# Soma e produto de polinômios"
   ]
  },
  {
   "attachments": {},
   "cell_type": "markdown",
   "metadata": {},
   "source": [
    "## Soma e diferença\n",
    "\n",
    "Para somar/subtrair dois polinômios $f$ e $g$, basta somar algebricamente os coeficientes correspondentes\n",
    "$$\n",
    "\\begin{align}\n",
    "    f(x) &= \\sum_n a_nx^n\\\\\n",
    "    g(x) &= \\sum_n b_nx^n\\\\\n",
    "    (f\\pm g)(x) &= \\sum_n (a_n\\pm b_n)x^n\n",
    "\\end{align}\n",
    "$$\n",
    "\n",
    "Computacionalmente isso é equivalente a somar dois **vetores** de mesmo comprimento. Computacionalmente é melhor usar *arrays* (NumPy) do que listas convencionais. Se estiver usando simbólico, isso se torna irrelevante."
   ]
  },
  {
   "attachments": {},
   "cell_type": "markdown",
   "metadata": {},
   "source": [
    "**Exemplo**: Somar $f(x) = 4+3x+x^2$ e $g(x)=5+3x^2+x^4$"
   ]
  },
  {
   "cell_type": "code",
   "execution_count": 10,
   "metadata": {},
   "outputs": [
    {
     "data": {
      "text/latex": [
       "$\\displaystyle f(x)= x^{2} + 3 x + 4$"
      ],
      "text/plain": [
       "<IPython.core.display.Math object>"
      ]
     },
     "metadata": {},
     "output_type": "display_data"
    },
    {
     "data": {
      "text/latex": [
       "$\\displaystyle g(x)= x^{4} + 3 x^{2} + 5$"
      ],
      "text/plain": [
       "<IPython.core.display.Math object>"
      ]
     },
     "metadata": {},
     "output_type": "display_data"
    },
    {
     "data": {
      "text/latex": [
       "$\\displaystyle f(x)+g(x) = x^{4} + 4 x^{2} + 3 x + 9$"
      ],
      "text/plain": [
       "<IPython.core.display.Math object>"
      ]
     },
     "metadata": {},
     "output_type": "display_data"
    },
    {
     "data": {
      "text/latex": [
       "$\\displaystyle f(x)-g(x) = - x^{4} - 2 x^{2} + 3 x - 1$"
      ],
      "text/plain": [
       "<IPython.core.display.Math object>"
      ]
     },
     "metadata": {},
     "output_type": "display_data"
    },
    {
     "data": {
      "text/latex": [
       "$\\displaystyle g(x)-f(x) = x^{4} + 2 x^{2} - 3 x + 1$"
      ],
      "text/plain": [
       "<IPython.core.display.Math object>"
      ]
     },
     "metadata": {},
     "output_type": "display_data"
    }
   ],
   "source": [
    "# Solução simbólica\n",
    "import sympy as sp\n",
    "from IPython.display import display, Math\n",
    "x = sp.symbols('x')\n",
    "f = 4+3*x+x**2\n",
    "g = 5+3*x**2+x**4\n",
    "display(Math('f(x)= ' + sp.latex(f)))\n",
    "display(Math('g(x)= ' + sp.latex(g)))\n",
    "display(Math('f(x)+g(x) = ' + sp.latex(f+g)))\n",
    "display(Math('f(x)-g(x) = ' + sp.latex(f-g)))\n",
    "display(Math('g(x)-f(x) = ' + sp.latex(g-f)))\n"
   ]
  },
  {
   "cell_type": "code",
   "execution_count": 11,
   "metadata": {},
   "outputs": [
    {
     "data": {
      "text/latex": [
       "$\\displaystyle f= \\mathtt{\\text{[0 0 1 3 4]}}$"
      ],
      "text/plain": [
       "<IPython.core.display.Math object>"
      ]
     },
     "metadata": {},
     "output_type": "display_data"
    },
    {
     "data": {
      "text/latex": [
       "$\\displaystyle g= \\mathtt{\\text{[1 0 3 0 5]}}$"
      ],
      "text/plain": [
       "<IPython.core.display.Math object>"
      ]
     },
     "metadata": {},
     "output_type": "display_data"
    },
    {
     "data": {
      "text/latex": [
       "$\\displaystyle f+g = \\mathtt{\\text{[1 0 4 3 9]}}$"
      ],
      "text/plain": [
       "<IPython.core.display.Math object>"
      ]
     },
     "metadata": {},
     "output_type": "display_data"
    },
    {
     "data": {
      "text/latex": [
       "$\\displaystyle f-g = \\mathtt{\\text{[-1  0 -2  3 -1]}}$"
      ],
      "text/plain": [
       "<IPython.core.display.Math object>"
      ]
     },
     "metadata": {},
     "output_type": "display_data"
    },
    {
     "data": {
      "text/latex": [
       "$\\displaystyle g-f = \\mathtt{\\text{[ 1  0  2 -3  1]}}$"
      ],
      "text/plain": [
       "<IPython.core.display.Math object>"
      ]
     },
     "metadata": {},
     "output_type": "display_data"
    }
   ],
   "source": [
    "# Solução numérica\n",
    "import numpy as np\n",
    "f = np.array([0,0,1,3,4])\n",
    "g = np.array([1,0,3,0,5])\n",
    "display(Math('f= ' + sp.latex(f)))\n",
    "display(Math('g= ' + sp.latex(g)))\n",
    "display(Math('f+g = ' + sp.latex(f+g)))\n",
    "display(Math('f-g = ' + sp.latex(f-g)))\n",
    "display(Math('g-f = ' + sp.latex(g-f)))"
   ]
  },
  {
   "attachments": {},
   "cell_type": "markdown",
   "metadata": {},
   "source": [
    "## Produto\n",
    "\n",
    "O produto de dois polinômios é calculado algebricamente do jeito convencional. Há que se observar que o grau de cada termo muda conforme o produto, então o agrupamento de termos semelhantes no final precisa ser calculado com atenção. \n",
    "\n",
    "Se $f(x)=a_0+a_1x+\\ldots + a_mx^m $ e $g(x) = b_0+b_1x+\\ldots+b_nx^n$, e o produto $fg = h$, tal que $h(x)=c_0+c_1x + \\ldots + c_{m+n}x^{m+n}$, então, de um modo geral, por indução, o coeficiente $c_k$ pode ser calculado como:\n",
    "$$\n",
    "\\begin{align}\n",
    "c_k = a_0b_k+a_1b_{k-1}+\\ldots + a_kb_0 = \\sum_{p=0}^k a_pb_{k-p}\n",
    "\\end{align}\n",
    "$$\n",
    "\n",
    "Se $\\mathbf{a}$ e $\\mathbf{b}$ são vetores representando os coeficientes $a$ e $b$, chamamos essa operação de convolução entre $\\mathbf{a}$ e $\\mathbf{b}$. Essa é forma de fazer com Python numérico. Com simbólico não é necessário fazer nenhuma operação especial."
   ]
  },
  {
   "cell_type": "code",
   "execution_count": 16,
   "metadata": {},
   "outputs": [
    {
     "data": {
      "text/latex": [
       "$\\displaystyle f(x)=3 x^{3} + 2 x^{2} + x$"
      ],
      "text/plain": [
       "<IPython.core.display.Math object>"
      ]
     },
     "metadata": {},
     "output_type": "display_data"
    },
    {
     "data": {
      "text/latex": [
       "$\\displaystyle g(x)=6 x^{2} + 5 x + 4$"
      ],
      "text/plain": [
       "<IPython.core.display.Math object>"
      ]
     },
     "metadata": {},
     "output_type": "display_data"
    },
    {
     "data": {
      "text/latex": [
       "$\\displaystyle f(x)g(x)=\\left(6 x^{2} + 5 x + 4\\right) \\left(3 x^{3} + 2 x^{2} + x\\right)=18 x^{5} + 27 x^{4} + 28 x^{3} + 13 x^{2} + 4 x$"
      ],
      "text/plain": [
       "<IPython.core.display.Math object>"
      ]
     },
     "metadata": {},
     "output_type": "display_data"
    }
   ],
   "source": [
    "# Exemplo simbólico. Normalmente usamos o método expand() para achar o resultado\n",
    "f = x + 2*x**2+3*x**3\n",
    "g = 4 + 5*x + 6*x**2\n",
    "display(Math('f(x)=' + sp.latex(f)))\n",
    "display(Math('g(x)=' + sp.latex(g)))\n",
    "display(Math('f(x)g(x)=' + sp.latex(f*g) + '=' + sp.latex((f*g).expand())))"
   ]
  },
  {
   "cell_type": "code",
   "execution_count": 17,
   "metadata": {},
   "outputs": [
    {
     "data": {
      "text/latex": [
       "$\\displaystyle f=\\mathtt{\\text{[3 2 1 0]}}$"
      ],
      "text/plain": [
       "<IPython.core.display.Math object>"
      ]
     },
     "metadata": {},
     "output_type": "display_data"
    },
    {
     "data": {
      "text/latex": [
       "$\\displaystyle g=\\mathtt{\\text{[0 6 5 4]}}$"
      ],
      "text/plain": [
       "<IPython.core.display.Math object>"
      ]
     },
     "metadata": {},
     "output_type": "display_data"
    },
    {
     "data": {
      "text/latex": [
       "$\\displaystyle f\\cdot g=\\mathtt{\\text{[ 0 18 27 28 13  4  0]}}$"
      ],
      "text/plain": [
       "<IPython.core.display.Math object>"
      ]
     },
     "metadata": {},
     "output_type": "display_data"
    }
   ],
   "source": [
    "# Mesmo exemplo resolvido numericamente\n",
    "import numpy as np\n",
    "f = np.array([3,2,1,0])\n",
    "g = np.array([0,6,5,4])\n",
    "h = np.convolve(f,g)\n",
    "display(Math('f=' + sp.latex(f)))\n",
    "display(Math('g=' + sp.latex(g)))\n",
    "display(Math(r'f\\cdot g=' + sp.latex(h)))"
   ]
  },
  {
   "attachments": {},
   "cell_type": "markdown",
   "metadata": {},
   "source": [
    "Repare que o resultado numérico introduz um zero à esquerda, que pode ser desprezado. "
   ]
  },
  {
   "attachments": {},
   "cell_type": "markdown",
   "metadata": {},
   "source": [
    "<center> <img src=\"ex119-139.svg\" width=\"80%\"> </center>"
   ]
  }
 ],
 "metadata": {
  "kernelspec": {
   "display_name": "Python 3",
   "language": "python",
   "name": "python3"
  },
  "language_info": {
   "codemirror_mode": {
    "name": "ipython",
    "version": 3
   },
   "file_extension": ".py",
   "mimetype": "text/x-python",
   "name": "python",
   "nbconvert_exporter": "python",
   "pygments_lexer": "ipython3",
   "version": "3.11.1"
  },
  "orig_nbformat": 4
 },
 "nbformat": 4,
 "nbformat_minor": 2
}
