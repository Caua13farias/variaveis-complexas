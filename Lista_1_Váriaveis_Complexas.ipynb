{
  "nbformat": 4,
  "nbformat_minor": 0,
  "metadata": {
    "colab": {
      "provenance": [],
      "authorship_tag": "ABX9TyPfQZqI8aPbCMwoztyz4DAD",
      "include_colab_link": true
    },
    "kernelspec": {
      "name": "python3",
      "display_name": "Python 3"
    },
    "language_info": {
      "name": "python"
    }
  },
  "cells": [
    {
      "cell_type": "markdown",
      "metadata": {
        "id": "view-in-github",
        "colab_type": "text"
      },
      "source": [
        "<a href=\"https://colab.research.google.com/github/Caua13farias/variaveis-complexas/blob/main/Lista_1_V%C3%A1riaveis_Complexas.ipynb\" target=\"_parent\"><img src=\"https://colab.research.google.com/assets/colab-badge.svg\" alt=\"Open In Colab\"/></a>"
      ]
    },
    {
      "cell_type": "code",
      "execution_count": 32,
      "metadata": {
        "id": "-qDWHxd8qJ-_"
      },
      "outputs": [],
      "source": [
        "import numpy as np \n",
        "import sympy as sp \n",
        "from IPython.display import display, Math\n"
      ]
    },
    {
      "cell_type": "code",
      "source": [
        "# 2 Efetue:"
      ],
      "metadata": {
        "id": "hSR18BTqtzI0"
      },
      "execution_count": 33,
      "outputs": []
    },
    {
      "cell_type": "markdown",
      "source": [
        "**2. Efetue:**"
      ],
      "metadata": {
        "id": "gXfdIZQ6SKaZ"
      }
    },
    {
      "cell_type": "markdown",
      "source": [
        "$a) (3 + 2j) + (2 + 5j) = (5+7j)$"
      ],
      "metadata": {
        "id": "oON-SJQyQt2A"
      }
    },
    {
      "cell_type": "markdown",
      "source": [
        "$b) (5 - 2j) - (2 + 8j) = (3 -10j)$\n",
        "\n",
        "---\n",
        "\n"
      ],
      "metadata": {
        "id": "E8UxfhVQRCgc"
      }
    },
    {
      "cell_type": "markdown",
      "source": [
        "$c) (1 + j) + (1 - j) - 2j = (2-2j)$"
      ],
      "metadata": {
        "id": "_ZEC9gsKRiaB"
      }
    },
    {
      "cell_type": "markdown",
      "source": [
        "$d) (6 + 7j) - (4 + 2j) + (1 - 10j) = (3-5j)$"
      ],
      "metadata": {
        "id": "GH7DIcyNR8NC"
      }
    },
    {
      "cell_type": "markdown",
      "source": [
        "**3. Efetue:**"
      ],
      "metadata": {
        "id": "c0k7Uy0_SYl3"
      }
    },
    {
      "cell_type": "markdown",
      "source": [
        "$a) (2 - 3j) (1 + 5j) = (17+7j)$"
      ],
      "metadata": {
        "id": "yv4h63IsSstv"
      }
    },
    {
      "cell_type": "markdown",
      "source": [
        "$b) (1 + 2j) (2 + 1j) = 5j$"
      ],
      "metadata": {
        "id": "a0FLgEF2S_xV"
      }
    },
    {
      "cell_type": "markdown",
      "source": [
        "$c) (4 - 3j)( 5 - j)(1 + j) = (36-2j)$"
      ],
      "metadata": {
        "id": "3kom-fVjTfLp"
      }
    },
    {
      "cell_type": "markdown",
      "source": [
        "$d) (7 + 2j)(7 - 2j) = 53 $"
      ],
      "metadata": {
        "id": "cTDUiSNnTyah"
      }
    },
    {
      "cell_type": "markdown",
      "source": [
        "**4. Efetue:**"
      ],
      "metadata": {
        "id": "mD3UCKDcUsLz"
      }
    },
    {
      "cell_type": "markdown",
      "source": [
        "$ Se \\ U = 4 + 3j \\ e \\ V = 5 - 2j, \\ calcule \\ U  \\cdot V. $"
      ],
      "metadata": {
        "id": "zA-xwcKqU0pV"
      }
    },
    {
      "cell_type": "markdown",
      "source": [
        "$ (4+3j) (5-2j) = (20+6)(-8+15) => (26 + 7j)$\n",
        "\n",
        "\n",
        "\n"
      ],
      "metadata": {
        "id": "1WBUMiF8V1Kh"
      }
    },
    {
      "cell_type": "code",
      "source": [
        "# Código da questão 4:\n",
        "U = 4+3j\n",
        "V = 5-2j\n",
        "display(Math('U\\\\cdot V\\, = ' + f'{U*V}'))"
      ],
      "metadata": {
        "colab": {
          "base_uri": "https://localhost:8080/",
          "height": 39
        },
        "id": "JbSGFvs_v5fm",
        "outputId": "a0393103-db70-4701-d559-11b75ecfcef4"
      },
      "execution_count": 34,
      "outputs": [
        {
          "output_type": "display_data",
          "data": {
            "text/plain": [
              "<IPython.core.display.Math object>"
            ],
            "text/latex": "$\\displaystyle U\\cdot V\\, = (26+7j)$"
          },
          "metadata": {}
        }
      ]
    },
    {
      "cell_type": "markdown",
      "source": [
        "**5. calcule:**\\\n",
        " $a) (3+2j)^2$ \n",
        "\n",
        "> $=9+2 \\cdot 6j+4j^2$\n",
        "\n",
        ">> $=5+12j$\n"
      ],
      "metadata": {
        "id": "FWUHhfFTbmxy"
      }
    },
    {
      "cell_type": "code",
      "source": [
        "# Código letra A)\n",
        "(3 + 2j)**2\n",
        "display(Math('(3 + 2j)^2=' +  f'{(3 + 2j)**2}'))"
      ],
      "metadata": {
        "colab": {
          "base_uri": "https://localhost:8080/",
          "height": 39
        },
        "id": "FbtsXe0ov5O1",
        "outputId": "0cec196e-e79f-4dbb-cfd1-02aadf9d011f"
      },
      "execution_count": 35,
      "outputs": [
        {
          "output_type": "display_data",
          "data": {
            "text/plain": [
              "<IPython.core.display.Math object>"
            ],
            "text/latex": "$\\displaystyle (3 + 2j)^2=(5+12j)$"
          },
          "metadata": {}
        }
      ]
    },
    {
      "cell_type": "markdown",
      "source": [
        "$b) (5-j)^2$\n",
        "\n",
        " $ \\ =25-20j-j^2$ \n",
        "\n",
        " $ \\ =25-10j-1$"
      ],
      "metadata": {
        "id": "uUR6QPNgcEfy"
      }
    },
    {
      "cell_type": "code",
      "source": [
        "# Código letra B)\n",
        "(5 - 1j)**2\n",
        "display(Math('(5 - 1j)^2 =' +  f'{(5 - 1j)**2}'))"
      ],
      "metadata": {
        "colab": {
          "base_uri": "https://localhost:8080/",
          "height": 39
        },
        "id": "QEQ5VIzS5Fra",
        "outputId": "652a4257-6216-4046-fd4a-e31d9ba46f40"
      },
      "execution_count": 36,
      "outputs": [
        {
          "output_type": "display_data",
          "data": {
            "text/plain": [
              "<IPython.core.display.Math object>"
            ],
            "text/latex": "$\\displaystyle (5 - 1j)^2 =(24-10j)$"
          },
          "metadata": {}
        }
      ]
    },
    {
      "cell_type": "markdown",
      "source": [
        "$c) (1+j)^3$\n",
        "\n",
        "$=(1+j)^2 \\cdot (1+j)$\n",
        "\n",
        "$=(1+2j-1) \\cdot (1+j)$\n",
        "\n",
        "$= -2+2j$\n",
        "  \n"
      ],
      "metadata": {
        "id": "c06PgCXfK-_V"
      }
    },
    {
      "cell_type": "code",
      "source": [
        "# Código letra C)\n",
        "(1 + 1j)**3\n",
        "display(Math('(1 + 1j)^3=' +  f'{(1 + 1j)**3}'))"
      ],
      "metadata": {
        "colab": {
          "base_uri": "https://localhost:8080/",
          "height": 39
        },
        "id": "l_f1zlEP6NLs",
        "outputId": "4db9d65e-ba87-4ecc-b96e-61941c81179c"
      },
      "execution_count": 37,
      "outputs": [
        {
          "output_type": "display_data",
          "data": {
            "text/plain": [
              "<IPython.core.display.Math object>"
            ],
            "text/latex": "$\\displaystyle (1 + 1j)^3=(-2+2j)$"
          },
          "metadata": {}
        }
      ]
    },
    {
      "cell_type": "markdown",
      "source": [
        "**6. Calcule**\n",
        "\n",
        "$Se \\ f(z)=z^2-z+1, \\ calcule \\ f(1-j)$\n",
        "\n",
        "$ f(-1j)^2 - (1-j) + 1 $\n",
        "\n",
        "$= 1-2j-j^2-1+j$\n",
        "\n",
        "$= 1-2j-1$\n",
        "\n",
        "$=-j$\n"
      ],
      "metadata": {
        "id": "ZAVwbqPlOwxq"
      }
    },
    {
      "cell_type": "code",
      "source": [
        "# código da questão 6:\n",
        "z = 1 - 1j\n",
        "f = z**2 - z + 1\n",
        "display(Math('f(z)= z^2 - z + 1 '))\n",
        "display(Math('f(1-j)= z^2 - z + 1 =' +  f'{z**2 - z + 1}'))"
      ],
      "metadata": {
        "id": "-CKjcg5G7V2c",
        "colab": {
          "base_uri": "https://localhost:8080/",
          "height": 61
        },
        "outputId": "5b1fbe96-9482-4e00-fe47-49b743437b8e"
      },
      "execution_count": 38,
      "outputs": [
        {
          "output_type": "display_data",
          "data": {
            "text/plain": [
              "<IPython.core.display.Math object>"
            ],
            "text/latex": "$\\displaystyle f(z)= z^2 - z + 1 $"
          },
          "metadata": {}
        },
        {
          "output_type": "display_data",
          "data": {
            "text/plain": [
              "<IPython.core.display.Math object>"
            ],
            "text/latex": "$\\displaystyle f(1-j)= z^2 - z + 1 =-1j$"
          },
          "metadata": {}
        }
      ]
    },
    {
      "cell_type": "markdown",
      "source": [
        "**7. Calcule:**\n",
        "\n",
        "$Se \\ f(z)=z^4+jz^3-(1+2)z^2+3z+1+3j$ \n",
        "\n",
        "$Calcule \\ o \\ valor \\ f \\ no \\ ponto \\ z=1+j $\n",
        "\n",
        "\n",
        "\n",
        "\n",
        "\n"
      ],
      "metadata": {
        "id": "epYRCnnKQKCg"
      }
    },
    {
      "cell_type": "code",
      "source": [
        "# Código da questão 7 Calcule:\n",
        "z = 1 + 1j\n",
        "f = z**4 + 1j*z**3 - (1 + 2j) * z**2 + 3*z + 1 + 3j\n",
        "display(Math('f(z)= z^4 + j z^3 - (1 + 2j) z^2 + 3z + 1 + 3j  '))\n",
        "display(Math('f(1+j)= z^4 + j z^3 - (1 + 2j) z^2 + 3z + 1 + 3j=' +  f'{z**4 + 1j*z**3 - (1 + 2j) * z**2 + 3*z + 1 + 3j}'))\n"
      ],
      "metadata": {
        "colab": {
          "base_uri": "https://localhost:8080/",
          "height": 61
        },
        "id": "PwurHccB7oI6",
        "outputId": "484a40c6-23ec-437f-b6d9-2a65c7d240f6"
      },
      "execution_count": 39,
      "outputs": [
        {
          "output_type": "display_data",
          "data": {
            "text/plain": [
              "<IPython.core.display.Math object>"
            ],
            "text/latex": "$\\displaystyle f(z)= z^4 + j z^3 - (1 + 2j) z^2 + 3z + 1 + 3j  $"
          },
          "metadata": {}
        },
        {
          "output_type": "display_data",
          "data": {
            "text/plain": [
              "<IPython.core.display.Math object>"
            ],
            "text/latex": "$\\displaystyle f(1+j)= z^4 + j z^3 - (1 + 2j) z^2 + 3z + 1 + 3j=(2+2j)$"
          },
          "metadata": {}
        }
      ]
    },
    {
      "cell_type": "markdown",
      "source": [
        "**8.**\n",
        "\n",
        "$Prove \\ que \\ (1+j)^2=2j$\n",
        "\n",
        "\n",
        "$=(1+j)(1+j)$\n",
        "\n",
        "$ =1+2j+j^2$\n",
        "\n",
        "$ =2j$"
      ],
      "metadata": {
        "id": "sk3qmfxNTWYk"
      }
    },
    {
      "cell_type": "markdown",
      "source": [
        "$coloque \\ na \\ forma \\ algébrica \\ o \\ numero: $\n",
        "\n",
        "$ z=(1+j)^{80}-(1+j)^{82} \\over j^{96} $\n",
        "\n",
        "$ z=[(1+j^2)]^{40} - [(1+j)^2]^{41}$\n",
        " \n",
        "$ =(2j)^{40}-(2j)^{41}\\over 1^{24} $ $=$ $ 2^{40}-j \\cdot 2^{41}\\over 1$\n",
        "\n",
        "$=2^{40}-j \\cdot 2^{41}$\n",
        "\n"
      ],
      "metadata": {
        "id": "vTEqt3GuUaV-"
      }
    },
    {
      "cell_type": "code",
      "source": [
        "# 8 Prove:\n",
        "# Prove que (1+j)=2j\n",
        "(1+1j)**2\n",
        "z = (1+1j)**80 - (1+1j)**82 / 1j**92  \n",
        "z"
      ],
      "metadata": {
        "id": "NL0i5TAg-zpM",
        "colab": {
          "base_uri": "https://localhost:8080/"
        },
        "outputId": "c48352ff-e62c-468a-854f-6baee887992c"
      },
      "execution_count": 40,
      "outputs": [
        {
          "output_type": "execute_result",
          "data": {
            "text/plain": [
              "(1099511627776-2199023255552j)"
            ]
          },
          "metadata": {},
          "execution_count": 40
        }
      ]
    },
    {
      "cell_type": "markdown",
      "source": [
        "**9. Calcule as seguintes potencias de j:**\n",
        "\n",
        "$a) j^{76} = 1 $ \n",
        "\n",
        "$b) j^{110} = -1 $\n",
        "\n",
        "$c) j^{97} = j $\n",
        "\n",
        "$d) j^{503} = -j $\n",
        "\n",
        "\n"
      ],
      "metadata": {
        "id": "jfx2EdvVe0Nf"
      }
    },
    {
      "cell_type": "markdown",
      "source": [
        "**10. prove que** $(1-j)^2=-2j$  **e calcule** $(1-j)^{96}=(1-j)^{97}$ "
      ],
      "metadata": {
        "id": "PZ94GVW-lPz9"
      }
    },
    {
      "cell_type": "markdown",
      "source": [
        "$(1-j)^2$\n",
        "\n",
        "$=(1-j)(1-j)$\n",
        "\n",
        "$=1-j-j+j^2 $\n",
        "\n",
        "$=1-2j-1$\n",
        "\n",
        "$= -2j$\n",
        "\n",
        "---\n",
        "\n",
        "**Calcule:** $(1-j)^{96}+(1-j)^{97}$\n"
      ],
      "metadata": {
        "id": "7KQ-OxoKmSe4"
      }
    },
    {
      "cell_type": "code",
      "source": [],
      "metadata": {
        "id": "HBcineSdmJWW"
      },
      "execution_count": 40,
      "outputs": []
    },
    {
      "cell_type": "code",
      "source": [
        "# 9 Prove:\n",
        "z = 1j**76\n"
      ],
      "metadata": {
        "id": "kwkO34RQdFy8"
      },
      "execution_count": 41,
      "outputs": []
    }
  ]
}