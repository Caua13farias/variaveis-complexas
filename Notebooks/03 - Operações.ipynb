{
 "cells": [
  {
   "cell_type": "markdown",
   "metadata": {},
   "source": [
    "# **Operações elementares**"
   ]
  },
  {
   "cell_type": "markdown",
   "metadata": {},
   "source": [
    "### Igualdade entre dois números complexos\n",
    "\n",
    "Dois complexos são iguais se e somente se as respectivas partes real e imaginária são idênticas.\n",
    "\n",
    "De um modo geral\n",
    "$$\n",
    "\\begin{align*}\n",
    "    z_1 = z_2 \\Leftrightarrow \\Re\\{z_1\\} = \\Re\\{z_2\\},\\;\\;\\Im\\{z_1\\} = \\Im\\{z_2\\}\n",
    "\\end{align*}\n",
    "$$\n",
    "\n",
    "Exemplo: suponha que $z_1 = x+5j$ e $z_2=-7+j(4y+6)$. Se $z_1=z_2$, então:\n",
    "$$\n",
    "\\begin{align*}\n",
    "    x &= -7\\\\\n",
    "    5 &= 4y+6 \\Rightarrow y = -1/4 \n",
    "\\end{align*}\n",
    "$$\n"
   ]
  },
  {
   "cell_type": "markdown",
   "metadata": {},
   "source": [
    "### Soma\n",
    "\n",
    "Para somar dois complexos, some parte real com parte real, parte imaginária com imaginária. O mesmo para subtração.\n",
    "\n",
    "**Exemplo:**\n",
    "$$\n",
    "\\begin{align*}\n",
    "    (5+j2) + (-7-13j) &= (5-7)+j(2-13) = -2-j11\n",
    "\\end{align*}\n",
    "$$\n",
    "\n",
    "Procure sempre verificar as contas com Python:"
   ]
  },
  {
   "cell_type": "code",
   "execution_count": 1,
   "metadata": {},
   "outputs": [
    {
     "data": {
      "text/plain": [
       "(-2-11j)"
      ]
     },
     "execution_count": 1,
     "metadata": {},
     "output_type": "execute_result"
    }
   ],
   "source": [
    "(5+2j)+(-7-13j)"
   ]
  },
  {
   "cell_type": "markdown",
   "metadata": {},
   "source": [
    "### Multiplicação\n",
    "\n",
    "Multiplique dois complexos da mesma forma como multiplicaria duas entidades algébricas (como se o $j$ fosse uma \"variável\"). Ao final, simplifique a expressão fazendo uso das identidades de potência de $j$. \n",
    "\n",
    "Caso geral:\n",
    "$$\n",
    "\\begin{align*}\n",
    "    (a+jb)(x+jy) &= ax+jay+jbx+j^2by\\\\\n",
    "    &= (ax-by)+j(ay+bx)\n",
    "\\end{align*}\n",
    "$$\n",
    "\n",
    "Exemplo: Calcule $z_1z_2$, sendo que $z_1=-1+j$ e $z_2=2+5j$.\n",
    "$$\n",
    "\\begin{align*}\n",
    "    z_1z_2 &= (-1+j)(2+5j) = (-2-5)+j(2-5) = -7-3j\n",
    "\\end{align*}\n",
    "$$"
   ]
  },
  {
   "cell_type": "code",
   "execution_count": 1,
   "metadata": {},
   "outputs": [],
   "source": [
    "import numpy as np\n",
    "from IPython.display import display, Math"
   ]
  },
  {
   "cell_type": "code",
   "execution_count": 2,
   "metadata": {},
   "outputs": [
    {
     "data": {
      "text/latex": [
       "$\\displaystyle z_1\\, z_2 = (-7-3j)$"
      ],
      "text/plain": [
       "<IPython.core.display.Math object>"
      ]
     },
     "metadata": {},
     "output_type": "display_data"
    }
   ],
   "source": [
    "z1 = -1+1j\n",
    "z2 = 2+5j\n",
    "display(Math('z_1\\, z_2 = ' + f'{z1*z2}'))"
   ]
  },
  {
   "cell_type": "markdown",
   "metadata": {},
   "source": [
    "## Exercícios:\n",
    "\n",
    "**Faça as contas manualmente e confira os resultados com Python.**\n",
    "\n",
    "<p align=\"center\">\n",
    "<img src=\"lista1.svg\" width=\"80%\">\n",
    "</p>"
   ]
  }
 ],
 "metadata": {
  "kernelspec": {
   "display_name": "Python 3 (ipykernel)",
   "language": "python",
   "name": "python3"
  },
  "language_info": {
   "codemirror_mode": {
    "name": "ipython",
    "version": 3
   },
   "file_extension": ".py",
   "mimetype": "text/x-python",
   "name": "python",
   "nbconvert_exporter": "python",
   "pygments_lexer": "ipython3",
   "version": "3.11.1"
  },
  "vscode": {
   "interpreter": {
    "hash": "e1735dd0795dce195fb98475ccf229151ed44a61fb274eb18cdb7c8302916985"
   }
  }
 },
 "nbformat": 4,
 "nbformat_minor": 4
}
