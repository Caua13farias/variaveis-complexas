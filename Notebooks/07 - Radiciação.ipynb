{
 "cells": [
  {
   "cell_type": "markdown",
   "metadata": {},
   "source": [
    "## **Radiciação**"
   ]
  },
  {
   "cell_type": "markdown",
   "metadata": {},
   "source": [
    "## Definição\n",
    "\n",
    "A raiz $n$-ésima de um número complexo $z$ é qualquer número $w$, denotado $w = \\sqrt[n]{z}\n",
    "$ que satisfaz a equação:  \n",
    "$$\n",
    "\\begin{align}\n",
    "w^n = z\n",
    "\\end{align}\n",
    "$$\n",
    "\n",
    "Para qualquer $z \\in \\mathbb{C}$, existem exatamente $n$ números complexos que são raízes de $z$, i.e., um número tem três raízes cúbicas ($n=3$), quatro raízes quárticas ($n=4$) e assim sucessivamente.  "
   ]
  },
  {
   "cell_type": "markdown",
   "metadata": {},
   "source": [
    "**Exemplo:**\n",
    "\n",
    "$w=1$ é uma raiz cúbica de $z=1$, porque $w^3=1^3=1=z$. \n",
    "\n",
    "Porém, $w=-0.5+j0.5\\sqrt{3}$ também é uma raiz cúbica de $z=1$, porque $w^3=1$ (confira).\n",
    "\n",
    "Da mesma forma, $w=-0.5-j0.5\\sqrt{3}$ também é raiz cúbica de $z=1$. "
   ]
  },
  {
   "cell_type": "code",
   "execution_count": 2,
   "metadata": {
    "tags": []
   },
   "outputs": [
    {
     "data": {
      "text/latex": [
       "$\\displaystyle w^3 = \\left(- \\frac{1}{2} + \\frac{\\sqrt{3} i}{2}\\right)^{3}= 1$"
      ],
      "text/plain": [
       "<IPython.core.display.Math object>"
      ]
     },
     "metadata": {},
     "output_type": "display_data"
    }
   ],
   "source": [
    "# Resolve com simbólico\n",
    "from sympy import I,sqrt,Rational,expand, latex\n",
    "from IPython.display import display, Math\n",
    "\n",
    "dmath = lambda s: display(Math(s))\n",
    "\n",
    "w = -Rational(1,2)+I*sqrt(3)/2\n",
    "dmath('w^3 = ' + latex(w**3) + '= ' + latex(expand(w**3)) )"
   ]
  },
  {
   "attachments": {},
   "cell_type": "markdown",
   "metadata": {},
   "source": [
    "## Cálculo de raízes na prática (fórmula de Moivre)"
   ]
  },
  {
   "attachments": {},
   "cell_type": "markdown",
   "metadata": {},
   "source": [
    "Todas as raízes $n$-ésimas de um número complexo podem ser calculadas da seguinte forma:\n",
    "$$\n",
    "\\begin{align}\n",
    "    w_k &= \\sqrt[n]{\\rho}\\cdot \\left[\\cos\\left(\\frac{\\theta+2k\\pi}{n}\\right)+j\\,\\sin\\left(\\frac{\\theta+2k\\pi}{n}\\right)\\right]\n",
    "\\end{align}\n",
    "$$\n",
    "variando $k$ de 0 até $n-1$. Neste caso, a raiz é interpretada no sentido do conjunto dos números reais convencional."
   ]
  },
  {
   "attachments": {},
   "cell_type": "markdown",
   "metadata": {},
   "source": [
    "Isso pode ser facilmente demonstrado através da definição e da fórmula de potenciação (Faça!)"
   ]
  },
  {
   "attachments": {},
   "cell_type": "markdown",
   "metadata": {},
   "source": [
    "**Exemplo:** Calcule todas as raízes cúbicas de $8$\n",
    "\n",
    "**Solução:** em notação complexa $8 = 8 e^{j0}$, ou seja $\\rho = 8$ e $\\theta=0$. Então:\n",
    "\n",
    "$$\\begin{align}\n",
    "w_k &= \\sqrt[3]{8} \\left[\\cos\\left(\\frac{0+2k\\pi}{3}\\right)+j\\,\\sin\\left(\\frac{0+2k\\pi}{3}\\right)\\right]\\\\\n",
    "&= 2 \\left(\\cos \\frac{2k\\pi}{3}+j\\sin \\frac{2k\\pi}{3}\\right)\\\\\n",
    "k&=0 \\Rightarrow w_0 = 2 \\left(\\cos 0+j\\sin 0\\right) = 2\\\\\n",
    "k&=1 \\Rightarrow w_1 = 2 \\left(\\cos \\frac{2\\pi}{3}+j\\sin \\frac{2\\pi}{3}\\right) = -\\frac{1}{2}+j\\frac{\\sqrt{3}}{2}\\\\\n",
    "k&=2 \\Rightarrow w_2 = 2 \\left(\\cos \\frac{4\\pi}{3}+j\\sin \\frac{4\\pi}{3}\\right) = -\\frac{1}{2}-j\\frac{\\sqrt{3}}{2}\n",
    "\\end{align}$$"
   ]
  },
  {
   "attachments": {},
   "cell_type": "markdown",
   "metadata": {},
   "source": [
    "## Interpretação geométrica\n",
    "\n",
    "Uma visão geométrica interessante das raízes complexas de um número é a seguinte:\n",
    "- Considere cada raiz como um ponto representado no plano;\n",
    "- Todas as raízes tem o mesmo módulo. Logo, todas estão à mesma distância da origem do plano complexo;\n",
    "- A forma do argumento faz com que o espaço angular entre cada raiz/ponto seja o mesmo ($\\theta/n$)\n",
    "- Assim o conjunto das raizes são pontos sobre uma circunferência com espaçamento angular uniforme. Isto é um polígono regular inscrito em uma circunferência."
   ]
  },
  {
   "attachments": {},
   "cell_type": "markdown",
   "metadata": {},
   "source": [
    "No exemplo anterior, temos 3 raízes. Então elas devem definir um triângulo inscrito em uma circunferência de raio 2 (módulo das raizes). Vamos plotar o resultado com Python e conferir."
   ]
  },
  {
   "cell_type": "code",
   "execution_count": 3,
   "metadata": {},
   "outputs": [
    {
     "data": {
      "image/png": "[encoded data removed]",
      "text/plain": [
       "<Figure size 640x480 with 1 Axes>"
      ]
     },
     "metadata": {},
     "output_type": "display_data"
    }
   ],
   "source": [
    "# Desenho do polígono regular\n",
    "from numpy import sqrt, angle, abs, cos, sin, pi, real, imag, linspace\n",
    "\n",
    "# O número base\n",
    "z = 8\n",
    "rho = abs(z)\n",
    "theta = angle(z)\n",
    "\n",
    "# A ordem da raiz (fique a vontade para aumentar)\n",
    "n = 3\n",
    "\n",
    "# Armazenamos todas as raizes em uma lista, para poder plotar depois\n",
    "w = [rho**(1/n) * (cos((theta+2*k*pi)/n)+1j*sin((theta+2*k*pi)/n)) for k in range(n)]\n",
    "# Adicionamos ao final da lista o seu primeiro elemento, para poder fechar o polígono na figura\n",
    "w.append(w[0])\n",
    "# Separa em partes real e imaginária\n",
    "X = real(w)\n",
    "Y = imag(w)\n",
    "\n",
    "# Plotagem\n",
    "from matplotlib import pyplot as plt\n",
    "\n",
    "# O vetor de angulos a seguir auxilia a plotagem da circunferência\n",
    "ang = linspace(0,2*pi,num=200)\n",
    "\n",
    "# Políogono\n",
    "plt.plot(X,Y,'b-o');\n",
    "# Circunferência\n",
    "plt.plot(rho**(1/n)*cos(ang),rho**(1/n)*sin(ang),'r--');\n",
    "# Melhora aparência do gráfico\n",
    "plt.axis('square')\n",
    "plt.show()"
   ]
  },
  {
   "attachments": {},
   "cell_type": "markdown",
   "metadata": {},
   "source": [
    "<center> <img src=\"ex84-91.svg\" width=\"80%\"> </center>\n",
    "\n",
    "<center> <img src=\"ex92-100.svg\" width=\"80%\"> </center>"
   ]
  }
 ],
 "metadata": {
  "kernelspec": {
   "display_name": "Python 3 (ipykernel)",
   "language": "python",
   "name": "python3"
  },
  "language_info": {
   "codemirror_mode": {
    "name": "ipython",
    "version": 3
   },
   "file_extension": ".py",
   "mimetype": "text/x-python",
   "name": "python",
   "nbconvert_exporter": "python",
   "pygments_lexer": "ipython3",
   "version": "3.11.1"
  },
  "vscode": {
   "interpreter": {
    "hash": "3e3763a57b4ffe0d06e963ec4b7f8ef3a748cbfdb342037439726ee83e94c05b"
   }
  }
 },
 "nbformat": 4,
 "nbformat_minor": 4
}
