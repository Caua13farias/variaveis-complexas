{
 "cells": [
  {
   "cell_type": "markdown",
   "metadata": {},
   "source": [
    "# **Forma trigonométrica/polar**\n",
    "\n",
    "Uma das representações de números complexos bastante usual em engenharia é a que chamamos de polar. Em matemática, também é chamada de \"forma trigonométrica\". \n"
   ]
  },
  {
   "cell_type": "markdown",
   "metadata": {},
   "source": [
    "## **Plano complexo**\n",
    "\n",
    "Antes de introduzir a forma, vale apresentar a representação gráfica de números complexos. \n",
    "\n",
    "Todo número complexo pode ser representado como um **ponto** em um plano cartesiano, onde o eixo horizontal representa a parte real do número e o eixo vertical a parte imaginária. \n",
    "\n",
    "Em matemática, costuma-se chamar esse plano de Argand-Gauss. Em engenharia costumamos chamar simplesmente de plano complexo ou plano \"s\" (devido à transformada de Laplace).\n",
    "\n",
    "<center> <img src=\"PlanoComplexo.svg\" width=\"80%\"> </center>\n",
    "\n",
    "\n"
   ]
  },
  {
   "cell_type": "markdown",
   "metadata": {},
   "source": [
    "Podemos localizar um ponto neste plano de duas formas. Usando as coordenadas retangulares (horizontal e vertical) usuais. Ou usando coordenadas polares, isto é: a distância do ponto à origem do sistema (primeira coordenada); e o ângulo entre o eixo real e a linha que liga a origem ao ponto (segunda coordenada)"
   ]
  },
  {
   "cell_type": "markdown",
   "metadata": {},
   "source": [
    "## Módulo\n",
    "\n",
    "A distância entre a origem do sistema de coordenadas e o ponto $z=a+jb$ é chamada de **módulo** do número complexo $z$, e é denotado $|z|$. \n",
    "\n",
    "A relacão entre o módulo e as partes real e imaginária é a mesma da relação de Pitágoras:  \n",
    "$$\n",
    "\\begin{align}\n",
    "    |z| = \\sqrt{a^2+b^2}\n",
    "\\end{align}\n",
    "$$"
   ]
  },
  {
   "cell_type": "markdown",
   "metadata": {},
   "source": [
    "## **Propriedades do módulo**\n",
    "1. $|z|\\geq 0$\n",
    "2. $|z| = 0 \\Rightarrow z=0$\n",
    "3. $|z| = |\\bar{z}|$\n",
    "4. $|z_1\\cdot z_2| = |z_1|\\cdot|z_2|$\n",
    "5. $\\left|\\frac{z_1}{z_2}\\right| = \\frac{|z_1|}{|z_2|}$\n",
    "6. $|z_1+z_2|<|z_1|+|z_2|$"
   ]
  },
  {
   "cell_type": "markdown",
   "metadata": {},
   "source": [
    "## **Fase**\n",
    "\n",
    "A fase, ângulo ou argumento do número complexo $z$, denotado $\\angle z$ (às vezes também $\\arg z$) é o ângulo **em radianos** formado entre o eixo real e o vetor (linha) entre a origem e o ponto. \n",
    "\n",
    "A fase pode ser positiva ou negativa. O sinal deve ser lido no mesmo sentido do ciclo trigonométrico, isto é, **positivo no sentido anti-horário**.\n",
    "\n",
    "A fase pode ser expressa em graus, mas quando for o caso, deve-se indicar explicitamente a unidade. Do contrário, subtende-se que é radianos. \n",
    "\n",
    "O valor absoluto da fase normalmente é expresso por um número entre $0$ e $2\\pi$. Quando o número estiver fora desse intervalo, estaremos nos referindo a um arco **côngruo**, isto é, um pelo qual demos mais de uma volta no ciclo. A lógica é a mesma usada em trigonometria. \n",
    "\n",
    "Quando falarmos em fase de um número complexo, estaremos sempre nos referindo ao menor arco que o representa. Isso também é chamado de argumento principal. "
   ]
  },
  {
   "cell_type": "markdown",
   "metadata": {},
   "source": [
    "A determinação da fase depende do quadrante onde o número complexo está. \n",
    "\n",
    "Um ângulo base pode ser determinado usando a expressão:\n",
    "$$\n",
    "\\begin{align}\n",
    "    \\angle z = \\theta = \\tan^{-1} (b/a)\n",
    "\\end{align}\n",
    "$$\n",
    "\n",
    "Porém, a função tangente inversa sempre vai retornar um número entre $-\\pi$ e $\\pi$, o que só cobre metade do plano. Assim, para determinar a fase verdadeira, você deve observar o quadrante onde o ponto está e somar/subtrair $\\pi$ conforme a necessidade.\n",
    "\n",
    "Esse procedimento é normalmente necessário em calculadoras antigas ou se você preferir calcular a fase usando a função tangente inversa. Se você decidir usar funções especializadas de calculadoras ou em linguagem de programação, o algoritmo já analisa o quadrante e retorna a fase completa. "
   ]
  },
  {
   "cell_type": "markdown",
   "metadata": {},
   "source": [
    "## **Conversão**\n",
    "\n",
    "Suponha que $|z| = \\rho$ e $\\angle z = \\theta$.\n",
    "\n",
    "Da representação geométrica, o número $z$ pode ser escrito como:\n",
    "$$\n",
    "\\begin{align}\n",
    "    z &= a+jb = \\rho (\\cos \\theta + j \\sin \\theta)\n",
    "\\end{align}\n",
    "$$\n",
    "\n",
    "Assim, temos $a=\\rho \\cos \\theta$ e $b=\\rho \\sin \\theta$. \n",
    "\n"
   ]
  },
  {
   "cell_type": "markdown",
   "metadata": {},
   "source": [
    "**Exemplo:**\n",
    "\n",
    "$z=\\sqrt{3}+j$. Então\n",
    "\n",
    "$|z|=\\sqrt{3+1}=2$\n",
    "\n",
    "$z$ está no primeiro quadrante, porque as partes real e imaginária são positivas. Logo o argumento deve estar entre $0$ e $\\pi/2$.\n",
    "\n",
    "$\\angle z = \\tan^{-1} (1/\\sqrt{3}) = \\pi/6$\n",
    "\n",
    "Forma trigonométrica:\n",
    "$z= 2(\\cos(\\pi/6)+j\\sin(\\pi/6))$\n"
   ]
  },
  {
   "cell_type": "code",
   "execution_count": 6,
   "metadata": {},
   "outputs": [
    {
     "name": "stdout",
     "output_type": "stream",
     "text": [
      "Módulo:  2.0\n",
      "Fase:  0.5236 rad\n",
      "Fase:  30.0 graus\n"
     ]
    }
   ],
   "source": [
    "# Observe como fazer em Python\n",
    "import numpy as np\n",
    "z =  np.sqrt(3)+1j\n",
    "print(\"Módulo: \", np.abs(z).round(decimals=4) )\n",
    "print('Fase: ', np.angle(z).round(decimals=4), 'rad')\n",
    "print('Fase: ', (180*np.angle(z)/np.pi).round(decimals=4), 'graus')"
   ]
  },
  {
   "cell_type": "markdown",
   "metadata": {},
   "source": [
    "<p align=\"center\">\n",
    "<img src=ex45-53.svg>\n",
    "</p>"
   ]
  },
  {
   "cell_type": "markdown",
   "metadata": {},
   "source": [
    "<p align=\"center\">\n",
    "<img src=ex54-64.svg>\n",
    "</p>"
   ]
  },
  {
   "cell_type": "markdown",
   "metadata": {},
   "source": [
    "<p align=\"center\">\n",
    "<img src=ex65-74.svg>\n",
    "</p>"
   ]
  }
 ],
 "metadata": {
  "kernelspec": {
   "display_name": "Python 3 (ipykernel)",
   "language": "python",
   "name": "python3"
  },
  "language_info": {
   "codemirror_mode": {
    "name": "ipython",
    "version": 3
   },
   "file_extension": ".py",
   "mimetype": "text/x-python",
   "name": "python",
   "nbconvert_exporter": "python",
   "pygments_lexer": "ipython3",
   "version": "3.11.1"
  },
  "vscode": {
   "interpreter": {
    "hash": "3e3763a57b4ffe0d06e963ec4b7f8ef3a748cbfdb342037439726ee83e94c05b"
   }
  }
 },
 "nbformat": 4,
 "nbformat_minor": 4
}
